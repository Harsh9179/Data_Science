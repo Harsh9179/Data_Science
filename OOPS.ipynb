{
  "nbformat": 4,
  "nbformat_minor": 0,
  "metadata": {
    "colab": {
      "provenance": []
    },
    "kernelspec": {
      "name": "python3",
      "display_name": "Python 3"
    },
    "language_info": {
      "name": "python"
    }
  },
  "cells": [
    {
      "cell_type": "markdown",
      "source": [
        "#Python OOPs Questions"
      ],
      "metadata": {
        "id": "x-XAaJ0KY37s"
      }
    },
    {
      "cell_type": "markdown",
      "source": [
        "**1. What is Object-Oriented Programming (OOP)**\n",
        "\n",
        "Object-Oriented Programming (OOP) is a programming paradigm based on the concept of \"objects\", which can contain data (attributes) and code (methods). It emphasizes the use of classes and objects to design applications and promotes code reusability, scalability, and maintainability.\n",
        "\n",
        "---\n",
        "\n",
        "**2. What is a class in OOP**\n",
        "\n",
        "A class is a blueprint or template for creating objects. It defines a set of attributes and methods that the created objects (instances) will have. Classes encapsulate data and behaviors into a single unit.\n",
        "\n",
        "---\n",
        "\n",
        "**3. What is an object in OOP**\n",
        "\n",
        "An object is an instance of a class. It represents a specific implementation of the class template, with its own unique data. Objects are the fundamental building blocks in OOP.\n",
        "\n",
        "---\n",
        "\n",
        "**4. What is the difference between abstraction and encapsulation**\n",
        "\n",
        "Abstraction is the process of hiding the complex implementation details and showing only the necessary features to the user. Encapsulation is the mechanism of wrapping data and methods that operate on the data into a single unit (class), and restricting direct access to some components.\n",
        "\n",
        "---\n",
        "\n",
        "**5. What are dunder methods in Python**\n",
        "\n",
        "Dunder methods (short for \"double underscore\") are special methods in Python that begin and end with double underscores. They enable the customization of built-in operations like addition, string representation, etc.\n",
        "\n",
        "*Example:* `__init__`, `__str__`, `__repr__`, `__add__`\n",
        "\n",
        "---\n",
        "\n",
        "**6. Explain the concept of inheritance in OOP.**\n",
        "\n",
        "Inheritance allows one class (child) to acquire the attributes and methods of another class (parent). It promotes code reuse and hierarchical relationships among classes.\n",
        "\n",
        "---\n",
        "\n",
        "**7. What is polymorphism in OOP**\n",
        "\n",
        "Polymorphism allows the same method or operation to behave differently on different classes. It means \"many forms\" and enables functions/methods to operate on objects of different types seamlessly.\n",
        "\n",
        "---\n",
        "\n",
        "**8. How is encapsulation achieved in Python**\n",
        "\n",
        "Encapsulation in Python is achieved by defining class attributes as private using a single underscore `_` (protected) or double underscore `__` (private). Access to these attributes is controlled using getter and setter methods.\n",
        "\n",
        "---\n",
        "\n",
        "**9. What is a constructor in Python**\n",
        "\n",
        "A constructor is a special method named `__init__()` that is automatically called when an object is created. It is used to initialize the attributes of the object.\n",
        "\n",
        "---\n",
        "\n",
        "**10. What are class and static methods in Python**\n",
        "\n",
        "- A **class method** uses the `@classmethod` decorator and receives the class (`cls`) as its first argument. It can access and modify class state.\n",
        "- A **static method** uses the `@staticmethod` decorator and does not receive the class or instance as an argument. It behaves like a regular function inside a class.\n",
        "\n",
        "---\n",
        "\n",
        "**11. What is method overloading in Python**\n",
        "\n",
        "Python does not support traditional method overloading (same method name with different parameters). However, it can be mimicked using default arguments or variable-length arguments (`*args`, `**kwargs`).\n",
        "\n",
        "---\n",
        "\n",
        "**12. What is method overriding in OOP**\n",
        "\n",
        "Method overriding allows a subclass to provide a specific implementation of a method that is already defined in its parent class. The new method replaces the inherited one.\n",
        "\n",
        "---\n",
        "\n",
        "**13. What is a property decorator in Python**\n",
        "\n",
        "The `@property` decorator in Python is used to create read-only or controlled access to class attributes. It allows a method to be accessed like an attribute.\n",
        "\n",
        "---\n",
        "\n",
        "**14. Why is polymorphism important in OOP**\n",
        "\n",
        "Polymorphism improves code flexibility and reusability. It allows different classes to be treated through a common interface and simplifies code that works with related objects.\n",
        "\n",
        "---\n",
        "\n",
        "**15. What is an abstract class in Python**\n",
        "\n",
        "An abstract class is a class that cannot be instantiated directly and may contain abstract methods that must be implemented by its subclasses. Python uses the `abc` module and `@abstractmethod` decorator to create abstract classes.\n",
        "\n",
        "---\n",
        "\n",
        "**16. What are the advantages of OOP**\n",
        "\n",
        "- Modularity and code reusability\n",
        "- Better organization of code\n",
        "- Scalability and maintainability\n",
        "- Improved problem modeling\n",
        "- Encapsulation for data security\n",
        "\n",
        "---\n",
        "\n",
        "**17. What is the difference between a class variable and an instance variable**\n",
        "\n",
        "- A **class variable** is shared across all instances of the class and is defined at the class level.\n",
        "- An **instance variable** is specific to an object and defined inside the constructor or methods using `self`.\n",
        "\n",
        "---\n",
        "\n",
        "**18. What is multiple inheritance in Python**\n",
        "\n",
        "Multiple inheritance allows a class to inherit attributes and methods from more than one parent class. Python supports it directly.\n",
        "\n",
        "*Example:*  \n",
        "```python\n",
        "class A: pass  \n",
        "class B: pass  \n",
        "class C(A, B): pass\n",
        "```\n",
        "\n",
        "---\n",
        "\n",
        "**19. Explain the purpose of ‘__str__’ and ‘__repr__’ methods in Python**\n",
        "\n",
        "- `__str__()` defines the human-readable string representation of an object, used by `print()`.\n",
        "- `__repr__()` is meant for developers and returns an official string representation of the object, often used in debugging.\n",
        "\n",
        "---\n",
        "\n",
        "**20. What is the significance of the ‘super()’ function in Python**\n",
        "\n",
        "The `super()` function is used to call methods from a parent class. It is commonly used in constructors to inherit and initialize parent class attributes without explicitly naming the parent.\n",
        "\n",
        "---\n",
        "\n",
        "**21. What is the significance of the `__del__` method in Python**\n",
        "\n",
        "The `__del__()` method is called when an object is about to be destroyed. It acts as a destructor and can be used to release resources or perform cleanup tasks.\n",
        "\n",
        "---\n",
        "\n",
        "**22. What is the difference between @staticmethod and @classmethod in Python**\n",
        "\n",
        "- `@staticmethod`: Does not receive `self` or `cls`; behaves like a normal function within a class.\n",
        "- `@classmethod`: Receives `cls` as the first argument and can access/modify class state.\n",
        "\n",
        "---\n",
        "\n",
        "**23. How does polymorphism work in Python with inheritance**\n",
        "\n",
        "In Python, polymorphism with inheritance allows methods in child classes to override parent class methods. When a method is called on an object, Python dynamically determines which method to invoke based on the object type.\n",
        "\n",
        "---\n",
        "\n",
        "**24. What is method chaining in Python OOP**\n",
        "\n",
        "Method chaining is the practice of calling multiple methods on the same object in a single line. Each method must return `self` to allow chaining.\n",
        "\n",
        "*Example:*  \n",
        "```python\n",
        "obj.method1().method2().method3()\n",
        "```\n",
        "\n",
        "---\n",
        "\n",
        "**25. What is the purpose of the __call__ method in Python?**\n",
        "\n",
        "The `__call__()` method allows an instance of a class to be called as if it were a function. This is useful for creating callable objects that maintain internal state.\n",
        "\n",
        "*Example:*  \n",
        "```python\n",
        "class Example:\n",
        "    def __call__(self, x):\n",
        "        return x * 2\n",
        "\n",
        "obj = Example()\n",
        "print(obj(5))  # Output: 10\n",
        "```\n",
        "\n"
      ],
      "metadata": {
        "id": "rVcwN4WvZEhW"
      }
    },
    {
      "cell_type": "markdown",
      "source": [
        "#Practical Questions"
      ],
      "metadata": {
        "id": "yXd8eWbsZTuF"
      }
    },
    {
      "cell_type": "code",
      "execution_count": 1,
      "metadata": {
        "colab": {
          "base_uri": "https://localhost:8080/"
        },
        "id": "Oy1WCRyNYvHH",
        "outputId": "5ec638e4-71dc-4aa6-8900-d64ff49d4856"
      },
      "outputs": [
        {
          "output_type": "stream",
          "name": "stdout",
          "text": [
            "The animal makes a sound.\n",
            "Bark!\n"
          ]
        }
      ],
      "source": [
        "#1. Create a parent class Animal with a method speak() that prints a generic message. Create a child class Dog that overrides the speak() method to print \"Bark!\".\n",
        "\n",
        "# Parent class\n",
        "class Animal:\n",
        "    def speak(self):\n",
        "        print(\"The animal makes a sound.\")\n",
        "\n",
        "# Child class\n",
        "class Dog(Animal):\n",
        "    def speak(self):\n",
        "        print(\"Bark!\")\n",
        "\n",
        "# Creating objects\n",
        "a = Animal()\n",
        "d = Dog()\n",
        "\n",
        "# Calling the speak method\n",
        "a.speak()  # Output: The animal makes a sound.\n",
        "d.speak()  # Output: Bark!\n"
      ]
    },
    {
      "cell_type": "code",
      "source": [
        "# 2. Write a program to create an abstract class Shape with a method area(). Derive classes Circle and Rectangle from it and implement the area() method in both.\n",
        "\n",
        "from abc import ABC, abstractmethod\n",
        "import math\n",
        "\n",
        "# Abstract class\n",
        "class Shape(ABC):\n",
        "    @abstractmethod\n",
        "    def area(self):\n",
        "        pass\n",
        "\n",
        "# Derived class: Circle\n",
        "class Circle(Shape):\n",
        "    def __init__(self, radius):\n",
        "        self.radius = radius\n",
        "\n",
        "    def area(self):\n",
        "        return math.pi * self.radius ** 2\n",
        "\n",
        "# Derived class: Rectangle\n",
        "class Rectangle(Shape):\n",
        "    def __init__(self, width, height):\n",
        "        self.width = width\n",
        "        self.height = height\n",
        "\n",
        "    def area(self):\n",
        "        return self.width * self.height\n",
        "\n",
        "# Creating objects\n",
        "c = Circle(5)\n",
        "r = Rectangle(4, 6)\n",
        "\n",
        "# Displaying areas\n",
        "print(\"Area of Circle:\", c.area())        # Output: Area of Circle: 78.53981633974483\n",
        "print(\"Area of Rectangle:\", r.area())     # Output: Area of Rectangle: 24\n",
        "\n",
        "\n",
        "\n"
      ],
      "metadata": {
        "colab": {
          "base_uri": "https://localhost:8080/"
        },
        "id": "jpNKCXVEape_",
        "outputId": "c167af75-011d-473a-9f8b-70609a023490"
      },
      "execution_count": 2,
      "outputs": [
        {
          "output_type": "stream",
          "name": "stdout",
          "text": [
            "Area of Circle: 78.53981633974483\n",
            "Area of Rectangle: 24\n"
          ]
        }
      ]
    },
    {
      "cell_type": "code",
      "source": [
        "# 3. Implement a multi-level inheritance scenario where a class Vehicle has an attribute type. Derive a class Car and further derive a class ElectricCar that adds a battery attribute.\n",
        "\n",
        "# Base class\n",
        "class Vehicle:\n",
        "    def __init__(self, vehicle_type):\n",
        "        self.vehicle_type = vehicle_type\n",
        "\n",
        "    def display_type(self):\n",
        "        print(\"Vehicle Type:\", self.vehicle_type)\n",
        "\n",
        "# Derived class\n",
        "class Car(Vehicle):\n",
        "    def __init__(self, vehicle_type, brand):\n",
        "        super().__init__(vehicle_type)\n",
        "        self.brand = brand\n",
        "\n",
        "    def display_brand(self):\n",
        "        print(\"Car Brand:\", self.brand)\n",
        "\n",
        "# Further derived class\n",
        "class ElectricCar(Car):\n",
        "    def __init__(self, vehicle_type, brand, battery_capacity):\n",
        "        super().__init__(vehicle_type, brand)\n",
        "        self.battery_capacity = battery_capacity\n",
        "\n",
        "    def display_battery(self):\n",
        "        print(\"Battery Capacity:\", self.battery_capacity, \"kWh\")\n",
        "\n",
        "# Creating object of ElectricCar\n",
        "ecar = ElectricCar(\"Four Wheeler\", \"Tesla\", 75)\n",
        "\n",
        "# Displaying all attributes\n",
        "ecar.display_type()       # Output: Vehicle Type: Four Wheeler\n",
        "ecar.display_brand()      # Output: Car Brand: Tesla\n",
        "ecar.display_battery()    # Output: Battery Capacity: 75 kWh\n"
      ],
      "metadata": {
        "colab": {
          "base_uri": "https://localhost:8080/"
        },
        "id": "Go3M9b19btyy",
        "outputId": "70729b5f-da5c-4d7f-a68d-5cb6bac1ef6f"
      },
      "execution_count": 3,
      "outputs": [
        {
          "output_type": "stream",
          "name": "stdout",
          "text": [
            "Vehicle Type: Four Wheeler\n",
            "Car Brand: Tesla\n",
            "Battery Capacity: 75 kWh\n"
          ]
        }
      ]
    },
    {
      "cell_type": "code",
      "source": [
        "# 4. Demonstrate polymorphism by creating a base class Bird with a method fly(). Create two derived classes Sparrow and Penguin that override the fly() method.\n",
        "\n",
        "# Base class\n",
        "class Bird:\n",
        "    def fly(self):\n",
        "        print(\"Some birds can fly.\")\n",
        "\n",
        "# Derived class 1\n",
        "class Sparrow(Bird):\n",
        "    def fly(self):\n",
        "        print(\"Sparrow flies high in the sky.\")\n",
        "\n",
        "# Derived class 2\n",
        "class Penguin(Bird):\n",
        "    def fly(self):\n",
        "        print(\"Penguins cannot fly but can swim.\")\n",
        "\n",
        "# Polymorphism demonstration\n",
        "def bird_flight(bird):\n",
        "    bird.fly()\n",
        "\n",
        "# Creating objects\n",
        "sparrow = Sparrow()\n",
        "penguin = Penguin()\n",
        "\n",
        "# Calling fly() through polymorphism\n",
        "bird_flight(sparrow)   # Output: Sparrow flies high in the sky.\n",
        "bird_flight(penguin)   # Output: Penguins cannot fly but can swim.\n"
      ],
      "metadata": {
        "colab": {
          "base_uri": "https://localhost:8080/"
        },
        "id": "RDFUJC1rffZH",
        "outputId": "e98ae651-43c7-4855-c3a3-c45ae1301520"
      },
      "execution_count": 4,
      "outputs": [
        {
          "output_type": "stream",
          "name": "stdout",
          "text": [
            "Sparrow flies high in the sky.\n",
            "Penguins cannot fly but can swim.\n"
          ]
        }
      ]
    },
    {
      "cell_type": "code",
      "source": [
        "# 5. Write a program to demonstrate encapsulation by creating a class BankAccount with private attributes balance and methods to deposit, withdraw, and check balance.\n",
        "\n",
        "class BankAccount:\n",
        "    def __init__(self, initial_balance=0):\n",
        "        self.__balance = initial_balance  # Private attribute\n",
        "\n",
        "    def deposit(self, amount):\n",
        "        if amount > 0:\n",
        "            self.__balance += amount\n",
        "            print(f\"Deposited: {amount}\")\n",
        "        else:\n",
        "            print(\"Deposit amount must be positive.\")\n",
        "\n",
        "    def withdraw(self, amount):\n",
        "        if 0 < amount <= self.__balance:\n",
        "            self.__balance -= amount\n",
        "            print(f\"Withdrawn: {amount}\")\n",
        "        else:\n",
        "            print(\"Insufficient balance or invalid amount.\")\n",
        "\n",
        "    def check_balance(self):\n",
        "        print(f\"Current Balance: {self.__balance}\")\n",
        "\n",
        "# Creating object\n",
        "account = BankAccount(1000)\n",
        "\n",
        "# Performing operations\n",
        "account.check_balance()     # Output: Current Balance: 1000\n",
        "account.deposit(500)        # Output: Deposited: 500\n",
        "account.withdraw(300)       # Output: Withdrawn: 300\n",
        "account.check_balance()     # Output: Current Balance: 1200\n",
        "\n",
        "# Trying to access private attribute (will raise an error)\n",
        "# print(account.__balance)  # Uncommenting this will result in an AttributeError\n"
      ],
      "metadata": {
        "colab": {
          "base_uri": "https://localhost:8080/"
        },
        "id": "hZZ1bgcQgBkr",
        "outputId": "48f964bf-289c-447f-b406-6d278701b50a"
      },
      "execution_count": 5,
      "outputs": [
        {
          "output_type": "stream",
          "name": "stdout",
          "text": [
            "Current Balance: 1000\n",
            "Deposited: 500\n",
            "Withdrawn: 300\n",
            "Current Balance: 1200\n"
          ]
        }
      ]
    },
    {
      "cell_type": "code",
      "source": [
        "# 6. Demonstrate runtime polymorphism using a method play() in a base class Instrument. Derive classes Guitar and Piano that implement their own version of play().\n",
        "\n",
        "# Base class\n",
        "class Instrument:\n",
        "    def play(self):\n",
        "        print(\"Playing an instrument...\")\n",
        "\n",
        "# Derived class 1\n",
        "class Guitar(Instrument):\n",
        "    def play(self):\n",
        "        print(\"Strumming the guitar.\")\n",
        "\n",
        "# Derived class 2\n",
        "class Piano(Instrument):\n",
        "    def play(self):\n",
        "        print(\"Playing the piano.\")\n",
        "\n",
        "# Function to demonstrate polymorphism\n",
        "def perform(instrument):\n",
        "    instrument.play()\n",
        "\n",
        "# Creating objects\n",
        "g = Guitar()\n",
        "p = Piano()\n",
        "\n",
        "# Runtime polymorphism\n",
        "perform(g)  # Output: Strumming the guitar.\n",
        "perform(p)  # Output: Playing the piano.\n"
      ],
      "metadata": {
        "colab": {
          "base_uri": "https://localhost:8080/"
        },
        "id": "VvyILozpgs65",
        "outputId": "b0aa3889-c07c-40b1-ac9f-c81a7e337171"
      },
      "execution_count": 6,
      "outputs": [
        {
          "output_type": "stream",
          "name": "stdout",
          "text": [
            "Strumming the guitar.\n",
            "Playing the piano.\n"
          ]
        }
      ]
    },
    {
      "cell_type": "code",
      "source": [
        "# 7. Create a class MathOperations with a class method add_numbers() to add two numbers and a static method subtract_numbers() to subtract two numbers.\n",
        "\n",
        "class MathOperations:\n",
        "\n",
        "    @classmethod\n",
        "    def add_numbers(cls, a, b):\n",
        "        return a + b\n",
        "\n",
        "    @staticmethod\n",
        "    def subtract_numbers(a, b):\n",
        "        return a - b\n",
        "\n",
        "# Using class method\n",
        "sum_result = MathOperations.add_numbers(10, 5)\n",
        "print(\"Sum:\", sum_result)  # Output: Sum: 15\n",
        "\n",
        "# Using static method\n",
        "diff_result = MathOperations.subtract_numbers(10, 5)\n",
        "print(\"Difference:\", diff_result)  # Output: Difference: 5\n"
      ],
      "metadata": {
        "colab": {
          "base_uri": "https://localhost:8080/"
        },
        "id": "LRkV9t4ohX93",
        "outputId": "3dd5f5ee-7d98-4110-9c1a-1b59966decb0"
      },
      "execution_count": 7,
      "outputs": [
        {
          "output_type": "stream",
          "name": "stdout",
          "text": [
            "Sum: 15\n",
            "Difference: 5\n"
          ]
        }
      ]
    },
    {
      "cell_type": "code",
      "source": [
        "# 8. Implement a class Person with a class method to count the total number of persons created.\n",
        "\n",
        "class Person:\n",
        "    count = 0  # Class variable to track number of persons\n",
        "\n",
        "    def __init__(self, name):\n",
        "        self.name = name\n",
        "        Person.count += 1\n",
        "\n",
        "    @classmethod\n",
        "    def total_persons(cls):\n",
        "        return cls.count\n",
        "\n",
        "# Creating Person objects\n",
        "p1 = Person(\"Alice\")\n",
        "p2 = Person(\"Bob\")\n",
        "p3 = Person(\"Charlie\")\n",
        "\n",
        "# Displaying total number of persons created\n",
        "print(\"Total persons created:\", Person.total_persons())  # Output: 3\n"
      ],
      "metadata": {
        "colab": {
          "base_uri": "https://localhost:8080/"
        },
        "id": "_wEJrHVJkZUC",
        "outputId": "cc8324a5-7ecc-4be8-b373-b10cc94af480"
      },
      "execution_count": 8,
      "outputs": [
        {
          "output_type": "stream",
          "name": "stdout",
          "text": [
            "Total persons created: 3\n"
          ]
        }
      ]
    },
    {
      "cell_type": "code",
      "source": [
        "# 9. Write a class Fraction with attributes numerator and denominator. Override the str method to display the fraction as \"numerator/denominator\".\n",
        "\n",
        "class Fraction:\n",
        "    def __init__(self, numerator, denominator):\n",
        "        self.numerator = numerator\n",
        "        self.denominator = denominator\n",
        "\n",
        "    def __str__(self):\n",
        "        return f\"{self.numerator}/{self.denominator}\"\n",
        "\n",
        "# Creating objects\n",
        "f1 = Fraction(3, 4)\n",
        "f2 = Fraction(5, 8)\n",
        "\n",
        "# Displaying fractions\n",
        "print(f1)  # Output: 3/4\n",
        "print(f2)  # Output: 5/8\n"
      ],
      "metadata": {
        "colab": {
          "base_uri": "https://localhost:8080/"
        },
        "id": "C4ME9cmLk5Hz",
        "outputId": "ffd68e0c-ae00-4b2d-cf53-4c6ac75a3fad"
      },
      "execution_count": 9,
      "outputs": [
        {
          "output_type": "stream",
          "name": "stdout",
          "text": [
            "3/4\n",
            "5/8\n"
          ]
        }
      ]
    },
    {
      "cell_type": "code",
      "source": [
        "# 10. Demonstrate operator overloading by creating a class Vector and overriding the add method to add two vectors.\n",
        "\n",
        "class Vector:\n",
        "    def __init__(self, x, y):\n",
        "        self.x = x\n",
        "        self.y = y\n",
        "\n",
        "    def __add__(self, other):\n",
        "        return Vector(self.x + other.x, self.y + other.y)\n",
        "\n",
        "    def __str__(self):\n",
        "        return f\"Vector({self.x}, {self.y})\"\n",
        "\n",
        "# Creating vector objects\n",
        "v1 = Vector(2, 3)\n",
        "v2 = Vector(4, 5)\n",
        "\n",
        "# Adding vectors using overloaded + operator\n",
        "v3 = v1 + v2\n",
        "\n",
        "# Displaying the result\n",
        "print(\"v1:\", v1)  # Output: Vector(2, 3)\n",
        "print(\"v2:\", v2)  # Output: Vector(4, 5)\n",
        "print(\"v1 + v2:\", v3)  # Output: Vector(6, 8)\n"
      ],
      "metadata": {
        "colab": {
          "base_uri": "https://localhost:8080/"
        },
        "id": "F8zeDo5mllKB",
        "outputId": "6cbcef7d-eb81-4e0d-a3d7-974e4aaf2ad6"
      },
      "execution_count": 10,
      "outputs": [
        {
          "output_type": "stream",
          "name": "stdout",
          "text": [
            "v1: Vector(2, 3)\n",
            "v2: Vector(4, 5)\n",
            "v1 + v2: Vector(6, 8)\n"
          ]
        }
      ]
    },
    {
      "cell_type": "code",
      "source": [
        "# 11. Create a class Person with attributes name and age. Add a method greet() that prints \"Hello, my name is {name} and I am {age} years old.\"\n",
        "\n",
        "\n",
        "class Person:\n",
        "    def __init__(self, name, age):\n",
        "        self.name = name\n",
        "        self.age = age\n",
        "\n",
        "    def greet(self):\n",
        "        print(f\"Hello, my name is {self.name} and I am {self.age} years old.\")\n",
        "\n",
        "# Creating object\n",
        "p1 = Person(\"Harsh\", 22)\n",
        "\n",
        "# Calling greet method\n",
        "p1.greet()  # Output: Hello, my name is Harsh and I am 22 years old.\n",
        "\n",
        "\n"
      ],
      "metadata": {
        "colab": {
          "base_uri": "https://localhost:8080/"
        },
        "id": "-QiHLQsDmApM",
        "outputId": "24fcb6f1-10cd-4833-9249-2cb6dfb57b5c"
      },
      "execution_count": 11,
      "outputs": [
        {
          "output_type": "stream",
          "name": "stdout",
          "text": [
            "Hello, my name is Harsh and I am 22 years old.\n"
          ]
        }
      ]
    },
    {
      "cell_type": "code",
      "source": [
        "# 12. Implement a class Student with attributes name and grades. Create a method average_grade() to compute the average of the grades.\n",
        "\n",
        "class Student:\n",
        "    def __init__(self, name, grades):\n",
        "        self.name = name\n",
        "        self.grades = grades  # grades should be a list of numbers\n",
        "\n",
        "    def average_grade(self):\n",
        "        if len(self.grades) == 0:\n",
        "            return 0\n",
        "        return sum(self.grades) / len(self.grades)\n",
        "\n",
        "# Creating a Student object\n",
        "s1 = Student(\"Harsh\", [85, 90, 78, 92])\n",
        "\n",
        "# Displaying average grade\n",
        "print(f\"Average grade for {s1.name}:\", s1.average_grade())  # Output: Average grade for Harsh: 86.25\n",
        "\n"
      ],
      "metadata": {
        "colab": {
          "base_uri": "https://localhost:8080/"
        },
        "id": "TrqI6xhGnBsj",
        "outputId": "f9973f59-4ec9-41fe-c6db-93ef9d6a1def"
      },
      "execution_count": 12,
      "outputs": [
        {
          "output_type": "stream",
          "name": "stdout",
          "text": [
            "Average grade for Harsh: 86.25\n"
          ]
        }
      ]
    },
    {
      "cell_type": "code",
      "source": [
        "# 13. Create a class Rectangle with methods set_dimensions() to set the dimensions and area() to calculate the area.\n",
        "\n",
        "class Rectangle:\n",
        "    def __init__(self):\n",
        "        self.width = 0\n",
        "        self.height = 0\n",
        "\n",
        "    def set_dimensions(self, width, height):\n",
        "        self.width = width\n",
        "        self.height = height\n",
        "\n",
        "    def area(self):\n",
        "        return self.width * self.height\n",
        "\n",
        "# Creating a Rectangle object\n",
        "rect = Rectangle()\n",
        "\n",
        "# Setting dimensions\n",
        "rect.set_dimensions(5, 10)\n",
        "\n",
        "# Calculating and displaying area\n",
        "print(\"Area of rectangle:\", rect.area())  # Output: Area of rectangle: 50\n"
      ],
      "metadata": {
        "colab": {
          "base_uri": "https://localhost:8080/"
        },
        "id": "RKisf6rGnZJN",
        "outputId": "31584db8-62d6-46fa-a29e-18f08610fdca"
      },
      "execution_count": 13,
      "outputs": [
        {
          "output_type": "stream",
          "name": "stdout",
          "text": [
            "Area of rectangle: 50\n"
          ]
        }
      ]
    },
    {
      "cell_type": "code",
      "source": [
        "# 14. Create a class Employee with a method calculate_salary() that computes the salary based on hours worked and hourly rate. Create a derived class Manager that adds a bonus to the salary.\n",
        "\n",
        "# Base class\n",
        "class Employee:\n",
        "    def __init__(self, name, hours_worked, hourly_rate):\n",
        "        self.name = name\n",
        "        self.hours_worked = hours_worked\n",
        "        self.hourly_rate = hourly_rate\n",
        "\n",
        "    def calculate_salary(self):\n",
        "        return self.hours_worked * self.hourly_rate\n",
        "\n",
        "# Derived class\n",
        "class Manager(Employee):\n",
        "    def __init__(self, name, hours_worked, hourly_rate, bonus):\n",
        "        super().__init__(name, hours_worked, hourly_rate)\n",
        "        self.bonus = bonus\n",
        "\n",
        "    def calculate_salary(self):\n",
        "        base_salary = super().calculate_salary()\n",
        "        return base_salary + self.bonus\n",
        "\n",
        "# Creating objects\n",
        "emp = Employee(\"John\", 40, 25)\n",
        "mgr = Manager(\"Alice\", 40, 30, 500)\n",
        "\n",
        "# Calculating salaries\n",
        "print(f\"{emp.name}'s Salary: ${emp.calculate_salary()}\")    # Output: John's Salary: $1000\n",
        "print(f\"{mgr.name}'s Salary: ${mgr.calculate_salary()}\")    # Output: Alice's Salary: $1700\n"
      ],
      "metadata": {
        "colab": {
          "base_uri": "https://localhost:8080/"
        },
        "id": "b05RqAaSn6B6",
        "outputId": "24223cc5-6d83-46c3-d757-3d9fa7091dae"
      },
      "execution_count": 14,
      "outputs": [
        {
          "output_type": "stream",
          "name": "stdout",
          "text": [
            "John's Salary: $1000\n",
            "Alice's Salary: $1700\n"
          ]
        }
      ]
    },
    {
      "cell_type": "code",
      "source": [
        "# 15. Create a class Product with attributes name, price, and quantity. Implement a method total_price() that calculates the total price of the product.\n",
        "\n",
        "class Product:\n",
        "    def __init__(self, name, price, quantity):\n",
        "        self.name = name\n",
        "        self.price = price\n",
        "        self.quantity = quantity\n",
        "\n",
        "    def total_price(self):\n",
        "        return self.price * self.quantity\n",
        "\n",
        "# Creating Product object\n",
        "p1 = Product(\"Laptop\", 55000, 2)\n",
        "\n",
        "# Displaying total price\n",
        "print(f\"Total price for {p1.name}s: ₹{p1.total_price()}\")  # Output: Total price for Laptops: ₹110000\n"
      ],
      "metadata": {
        "colab": {
          "base_uri": "https://localhost:8080/"
        },
        "id": "4kTB6m0doUoJ",
        "outputId": "fa3db7f6-3cd8-445b-87e3-d60311e01a75"
      },
      "execution_count": 15,
      "outputs": [
        {
          "output_type": "stream",
          "name": "stdout",
          "text": [
            "Total price for Laptops: ₹110000\n"
          ]
        }
      ]
    },
    {
      "cell_type": "code",
      "source": [
        "# 16. Create a class Animal with an abstract method sound(). Create two derived classes Cow and Sheep that implement the sound() method.\n",
        "\n",
        "from abc import ABC, abstractmethod\n",
        "\n",
        "# Abstract base class\n",
        "class Animal(ABC):\n",
        "    @abstractmethod\n",
        "    def sound(self):\n",
        "        pass\n",
        "\n",
        "# Derived class: Cow\n",
        "class Cow(Animal):\n",
        "    def sound(self):\n",
        "        print(\"Cow says Moo!\")\n",
        "\n",
        "# Derived class: Sheep\n",
        "class Sheep(Animal):\n",
        "    def sound(self):\n",
        "        print(\"Sheep says Baa!\")\n",
        "\n",
        "# Creating objects\n",
        "cow = Cow()\n",
        "sheep = Sheep()\n",
        "\n",
        "# Calling sound() method\n",
        "cow.sound()     # Output: Cow says Moo!\n",
        "sheep.sound()   # Output: Sheep says Baa!\n"
      ],
      "metadata": {
        "colab": {
          "base_uri": "https://localhost:8080/"
        },
        "id": "cmrrMpfspdJh",
        "outputId": "05da5b44-c2df-409e-c11f-9d1f58a43d41"
      },
      "execution_count": 16,
      "outputs": [
        {
          "output_type": "stream",
          "name": "stdout",
          "text": [
            "Cow says Moo!\n",
            "Sheep says Baa!\n"
          ]
        }
      ]
    },
    {
      "cell_type": "code",
      "source": [
        "# 17. Create a class Book with attributes title, author, and year_published. Add a method get_book_info() that returns a formatted string with the book's details.\n",
        "\n",
        "class Book:\n",
        "    def __init__(self, title, author, year_published):\n",
        "        self.title = title\n",
        "        self.author = author\n",
        "        self.year_published = year_published\n",
        "\n",
        "    def get_book_info(self):\n",
        "        return f\"'{self.title}' by {self.author}, published in {self.year_published}\"\n",
        "\n",
        "# Creating a Book object\n",
        "book1 = Book(\"Atomic Habits\", \"James Clear\", 2018)\n",
        "\n",
        "# Displaying book info\n",
        "print(book1.get_book_info())\n",
        "# Output: 'Atomic Habits' by James Clear, published in 2018\n"
      ],
      "metadata": {
        "colab": {
          "base_uri": "https://localhost:8080/"
        },
        "id": "06Jvo7t3qjxK",
        "outputId": "38d216f0-5e31-45a4-ee37-21f60b49c140"
      },
      "execution_count": 17,
      "outputs": [
        {
          "output_type": "stream",
          "name": "stdout",
          "text": [
            "'Atomic Habits' by James Clear, published in 2018\n"
          ]
        }
      ]
    },
    {
      "cell_type": "code",
      "source": [
        "# 18. Create a class House with attributes address and price. Create a derived class Mansion that adds an attribute number_of_rooms.\n",
        "\n",
        "# Base class\n",
        "class House:\n",
        "    def __init__(self, address, price):\n",
        "        self.address = address\n",
        "        self.price = price\n",
        "\n",
        "    def display_info(self):\n",
        "        print(f\"Address: {self.address}\")\n",
        "        print(f\"Price: ₹{self.price}\")\n",
        "\n",
        "# Derived class\n",
        "class Mansion(House):\n",
        "    def __init__(self, address, price, number_of_rooms):\n",
        "        super().__init__(address, price)\n",
        "        self.number_of_rooms = number_of_rooms\n",
        "\n",
        "    def display_info(self):\n",
        "        super().display_info()\n",
        "        print(f\"Number of Rooms: {self.number_of_rooms}\")\n",
        "\n",
        "# Creating object\n",
        "m1 = Mansion(\"123 Elite Street, Delhi\", 75000000, 12)\n",
        "\n",
        "# Displaying mansion info\n",
        "m1.display_info()\n"
      ],
      "metadata": {
        "colab": {
          "base_uri": "https://localhost:8080/"
        },
        "id": "XaBBpqmXrLQX",
        "outputId": "2161c14a-f737-4312-995d-9bc326a9e8c7"
      },
      "execution_count": 18,
      "outputs": [
        {
          "output_type": "stream",
          "name": "stdout",
          "text": [
            "Address: 123 Elite Street, Delhi\n",
            "Price: ₹75000000\n",
            "Number of Rooms: 12\n"
          ]
        }
      ]
    }
  ]
}