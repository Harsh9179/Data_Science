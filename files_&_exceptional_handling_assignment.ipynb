{
  "nbformat": 4,
  "nbformat_minor": 0,
  "metadata": {
    "colab": {
      "provenance": []
    },
    "kernelspec": {
      "name": "python3",
      "display_name": "Python 3"
    },
    "language_info": {
      "name": "python"
    }
  },
  "cells": [
    {
      "cell_type": "markdown",
      "source": [
        "# Files, exceptional handling, logging and memory management Questions"
      ],
      "metadata": {
        "id": "Odn2h1m29-St"
      }
    },
    {
      "cell_type": "markdown",
      "source": [
        "**1. What is the difference between interpreted and compiled languages**\n",
        "\n",
        "Interpreted languages execute code line-by-line using an interpreter at runtime, whereas compiled languages convert the entire code into machine code before execution using a compiler. Python is an interpreted language, which makes debugging easier but can be slower than compiled languages like C++.\n",
        "\n",
        "---\n",
        "\n",
        "**2. What is exception handling in Python**\n",
        "\n",
        "Exception handling in Python is a mechanism to handle errors during runtime using the `try`, `except`, `else`, and `finally` blocks. It helps prevent abrupt termination of programs and allows graceful error recovery.\n",
        "\n",
        "---\n",
        "\n",
        "**3. What is the purpose of the finally block in exception handling**\n",
        "\n",
        "The `finally` block contains code that is always executed, regardless of whether an exception occurred or not. It is typically used for cleanup actions like closing files or releasing resources.\n",
        "\n",
        "---\n",
        "\n",
        "**4. What is logging in Python**\n",
        "\n",
        "Logging in Python is the process of recording program events for debugging, monitoring, and audit purposes. It allows developers to track the flow and state of a program without using print statements.\n",
        "\n",
        "---\n",
        "\n",
        "**5. What is the significance of the `__del__` method in Python**\n",
        "\n",
        "The `__del__()` method is a special method called when an object is about to be destroyed. It serves as a destructor to release resources or perform clean-up tasks before memory is reclaimed.\n",
        "\n",
        "---\n",
        "\n",
        "**6. What is the difference between `import` and `from ... import` in Python**\n",
        "\n",
        "- `import module`: Imports the entire module and requires prefixing module name when using functions.\n",
        "- `from module import name`: Imports specific components, allowing direct use without prefix.\n",
        "\n",
        "*Example:*  \n",
        "```python\n",
        "import math\n",
        "print(math.sqrt(16))\n",
        "\n",
        "from math import sqrt\n",
        "print(sqrt(16))\n",
        "```\n",
        "\n",
        "---\n",
        "\n",
        "**7. How can you handle multiple exceptions in Python**\n",
        "\n",
        "Multiple exceptions can be handled by:\n",
        "- Using multiple `except` blocks for different error types\n",
        "- Using a tuple of exceptions in one `except` block\n",
        "\n",
        "*Example:*  \n",
        "```python\n",
        "try:\n",
        "    x = int(input())\n",
        "    y = 10 / x\n",
        "except ValueError:\n",
        "    print(\"Invalid input\")\n",
        "except ZeroDivisionError:\n",
        "    print(\"Cannot divide by zero\")\n",
        "```\n",
        "\n",
        "---\n",
        "\n",
        "**8. What is the purpose of the `with` statement when handling files in Python**\n",
        "\n",
        "The `with` statement simplifies file handling by automatically managing file opening and closing. It ensures that the file is properly closed after its suite finishes execution, even if an error occurs.\n",
        "\n",
        "*Example:*  \n",
        "```python\n",
        "with open(\"data.txt\", \"r\") as f:\n",
        "    content = f.read()\n",
        "```\n",
        "\n",
        "---\n",
        "\n",
        "**9. What is the difference between multithreading and multiprocessing**\n",
        "\n",
        "- **Multithreading** runs multiple threads (lightweight processes) in the same process space and shares memory.\n",
        "- **Multiprocessing** runs separate processes with individual memory spaces, suitable for CPU-bound tasks.\n",
        "\n",
        "---\n",
        "\n",
        "**10. What are the advantages of using logging in a program**\n",
        "\n",
        "- Helps in debugging and monitoring\n",
        "- Stores program events and errors\n",
        "- Configurable log levels (INFO, DEBUG, ERROR)\n",
        "- Better alternative to print statements in production\n",
        "\n",
        "---\n",
        "\n",
        "**11. What is memory management in Python**\n",
        "\n",
        "Memory management in Python involves automatic allocation and deallocation of memory using techniques like reference counting and garbage collection. Python also uses private heap space to store objects and data structures.\n",
        "\n",
        "---\n",
        "\n",
        "**12. What are the basic steps involved in exception handling in Python**\n",
        "\n",
        "1. Wrap code in a `try` block that may raise an exception  \n",
        "2. Catch and handle exceptions using one or more `except` blocks  \n",
        "3. Optionally use an `else` block for code that runs if no exception occurs  \n",
        "4. Use a `finally` block to execute cleanup code regardless of exceptions\n",
        "\n",
        "---\n",
        "\n",
        "**13. Why is memory management important in Python**\n",
        "\n",
        "Efficient memory management prevents memory leaks and ensures that the program uses system resources optimally. It allows the application to run efficiently and reliably, especially for long-running processes.\n",
        "\n",
        "---\n",
        "\n",
        "**14. What is the role of try and except in exception handling**\n",
        "\n",
        "The `try` block contains the code that might raise an exception. The `except` block catches and handles the exception if it occurs, allowing the program to continue or respond gracefully to the error.\n",
        "\n",
        "---\n",
        "\n",
        "**15. How does Python's garbage collection system work**\n",
        "\n",
        "Python's garbage collector automatically deletes unused objects using reference counting and cyclic garbage collection. When an object's reference count drops to zero, memory is released.\n",
        "\n",
        "---\n",
        "\n",
        "**16. What is the purpose of the else block in exception handling**\n",
        "\n",
        "The `else` block runs if no exception is raised in the `try` block. It is useful for placing code that should only run when the `try` block executes successfully.\n",
        "\n",
        "---\n",
        "\n",
        "**17. What are the common logging levels in Python**\n",
        "\n",
        "- `DEBUG`: Detailed diagnostic information  \n",
        "- `INFO`: General program events  \n",
        "- `WARNING`: Potential problems  \n",
        "- `ERROR`: Errors that occur during execution  \n",
        "- `CRITICAL`: Severe errors that may prevent the program from continuing\n",
        "\n",
        "---\n",
        "\n",
        "**18. What is the difference between os.fork() and multiprocessing in Python**\n",
        "\n",
        "- `os.fork()` is used on Unix systems to create a child process by duplicating the current process.\n",
        "- `multiprocessing` module is cross-platform and provides a high-level interface for spawning processes.\n",
        "\n",
        "---\n",
        "\n",
        "**19. What is the importance of closing a file in Python**\n",
        "\n",
        "Closing a file releases system resources and ensures that all buffered data is written to disk. It prevents data loss and file corruption.\n",
        "\n",
        "---\n",
        "\n",
        "**20. What is the difference between file.read() and file.readline() in Python**\n",
        "\n",
        "- `file.read()` reads the entire content of the file at once as a single string.\n",
        "- `file.readline()` reads one line from the file at a time.\n",
        "\n",
        "---\n",
        "\n",
        "**21. What is the logging module in Python used for**\n",
        "\n",
        "The logging module provides a standard way to log messages from Python programs. It allows you to log at different severity levels and output logs to files, streams, or remote servers.\n",
        "\n",
        "---\n",
        "\n",
        "**22. What is the os module in Python used for in file handling**\n",
        "\n",
        "The `os` module is used to interact with the operating system, providing functions to manipulate files and directories (e.g., `os.remove`, `os.rename`, `os.mkdir`, `os.path.exists`).\n",
        "\n",
        "---\n",
        "\n",
        "**23. What are the challenges associated with memory management in Python**\n",
        "\n",
        "- Circular references can delay garbage collection  \n",
        "- High memory usage in large applications  \n",
        "- Manual memory leaks via cached references  \n",
        "- Managing shared memory in multiprocessing\n",
        "\n",
        "---\n",
        "\n",
        "**24. How do you raise an exception manually in Python**\n",
        "\n",
        "You can manually raise an exception using the `raise` keyword followed by an exception type.\n",
        "\n",
        "*Example:*  \n",
        "```python\n",
        "raise ValueError(\"Invalid input\")\n",
        "```\n",
        "\n",
        "---\n",
        "\n",
        "**25. Why is it important to use multithreading in certain applications?**\n",
        "\n",
        "Multithreading is important for I/O-bound applications like web scraping, file handling, or network communication. It allows concurrent execution and better performance by utilizing idle CPU time during waiting operations.\n",
        "\n"
      ],
      "metadata": {
        "id": "iU56EiDZ-DvC"
      }
    },
    {
      "cell_type": "markdown",
      "source": [
        "# Practical Questions"
      ],
      "metadata": {
        "id": "6X-sFSs2-08X"
      }
    },
    {
      "cell_type": "code",
      "execution_count": 1,
      "metadata": {
        "id": "egFXLcgK90yc"
      },
      "outputs": [],
      "source": [
        "# 1. How can you open a file for writing in Python and write a string to it ?\n",
        "\n",
        "# Open a file in write mode ('w')\n",
        "with open(\"example.txt\", \"w\") as file:\n",
        "    file.write(\"This is a sample string written to the file.\")\n",
        "\n"
      ]
    },
    {
      "cell_type": "code",
      "source": [
        "# 2. Write a Python program to read the contents of a file and print each line.\n",
        "\n",
        "# Open the file in read mode ('r')\n",
        "with open(\"example.txt\", \"r\") as file:\n",
        "    # Loop through each line in the file\n",
        "    for line in file:\n",
        "        print(line.strip())\n"
      ],
      "metadata": {
        "id": "Bk_Z0Qk2AUbK"
      },
      "execution_count": null,
      "outputs": []
    },
    {
      "cell_type": "code",
      "source": [
        "# 3. How would you handle a case where the file doesn't exist while trying to open it for reading.\n",
        "\n",
        "try:\n",
        "    with open(\"example.txt\", \"r\") as file:\n",
        "        for line in file:\n",
        "            print(line.strip())\n",
        "except FileNotFoundError:\n",
        "    print(\"Error: The file does not exist.\")\n"
      ],
      "metadata": {
        "id": "b53OT1TQAYMP"
      },
      "execution_count": null,
      "outputs": []
    },
    {
      "cell_type": "code",
      "source": [
        "# 4. Write a Python script that reads from one file and writes its content to another file.\n",
        "\n",
        "# Read from 'source.txt' and write to 'destination.txt'\n",
        "try:\n",
        "    with open(\"source.txt\", \"r\") as source_file:\n",
        "        content = source_file.read()\n",
        "\n",
        "    with open(\"destination.txt\", \"w\") as destination_file:\n",
        "        destination_file.write(content)\n",
        "\n",
        "    print(\"File copied successfully.\")\n",
        "except FileNotFoundError:\n",
        "    print(\"Error: 'source.txt' does not exist.\")\n"
      ],
      "metadata": {
        "id": "By0VdmHqAscj"
      },
      "execution_count": null,
      "outputs": []
    },
    {
      "cell_type": "code",
      "source": [
        "# 5.  How would you catch and handle division by zero error in Python.\n",
        "\n",
        "try:\n",
        "    numerator = 10\n",
        "    denominator = 0\n",
        "    result = numerator / denominator\n",
        "    print(\"Result:\", result)\n",
        "except ZeroDivisionError:\n",
        "    print(\"Error: Division by zero is not allowed.\")\n"
      ],
      "metadata": {
        "id": "sQssuln1BDWG"
      },
      "execution_count": null,
      "outputs": []
    },
    {
      "cell_type": "code",
      "source": [
        "# 6.  Write a Python program that logs an error message to a log file when a division by zero exception occurs.\n",
        "\n",
        "import logging\n",
        "\n",
        "# Configure logging\n",
        "logging.basicConfig(\n",
        "    filename='error_log.txt',     # Log file name\n",
        "    level=logging.ERROR,          # Log level\n",
        "    format='%(asctime)s - %(levelname)s - %(message)s'  # Log format\n",
        ")\n",
        "\n",
        "# Program to perform division with error logging\n",
        "try:\n",
        "    numerator = 10\n",
        "    denominator = 0\n",
        "    result = numerator / denominator\n",
        "    print(\"Result:\", result)\n",
        "except ZeroDivisionError as e:\n",
        "    logging.error(\"Division by zero error occurred: %s\", e)\n",
        "    print(\"An error occurred. Please check the log file.\")\n"
      ],
      "metadata": {
        "id": "MbgliffqBLto"
      },
      "execution_count": null,
      "outputs": []
    },
    {
      "cell_type": "code",
      "source": [
        "# 7.  How do you log information at different levels (INFO, ERROR, WARNING) in Python using the logging module.\n",
        "\n",
        "import logging\n",
        "\n",
        "# Configure logging\n",
        "logging.basicConfig(\n",
        "    filename='app_log.txt',\n",
        "    level=logging.DEBUG,  # Logs everything from DEBUG and above\n",
        "    format='%(asctime)s - %(levelname)s - %(message)s'\n",
        ")\n",
        "\n",
        "# Logging at different levels\n",
        "logging.debug(\"This is a DEBUG message (used for troubleshooting).\")\n",
        "logging.info(\"This is an INFO message (used for general information).\")\n",
        "logging.warning(\"This is a WARNING message (used for caution).\")\n",
        "logging.error(\"This is an ERROR message (used when an error occurs).\")\n",
        "logging.critical(\"This is a CRITICAL message (used for severe errors).\")\n"
      ],
      "metadata": {
        "id": "5M-VHRuSBURc"
      },
      "execution_count": null,
      "outputs": []
    },
    {
      "cell_type": "code",
      "source": [
        "# 8. Write a program to handle a file opening error using exception handling.\n",
        "\n",
        "# Attempt to open a file that may not exist\n",
        "try:\n",
        "    with open(\"nonexistent_file.txt\", \"r\") as file:\n",
        "        content = file.read()\n",
        "        print(content)\n",
        "except FileNotFoundError:\n",
        "    print(\"Error: The file could not be found.\")\n"
      ],
      "metadata": {
        "id": "2yMH9Dp7Bi98"
      },
      "execution_count": null,
      "outputs": []
    },
    {
      "cell_type": "code",
      "source": [
        "# 9. How can you read a file line by line and store its content in a list in Python?\n",
        "\n",
        "# Open the file in read mode\n",
        "with open(\"example.txt\", \"r\") as file:\n",
        "    lines = [line.strip() for line in file]\n",
        "\n",
        "# Print the list of lines\n",
        "print(lines)\n"
      ],
      "metadata": {
        "id": "cNEVs_SrBtRr"
      },
      "execution_count": null,
      "outputs": []
    },
    {
      "cell_type": "code",
      "source": [
        "# 10. How can you append data to an existing file in Python?\n",
        "\n",
        "# Open the file in append mode\n",
        "with open(\"example.txt\", \"a\") as file:\n",
        "    file.write(\"\\nThis line is appended to the file.\")\n"
      ],
      "metadata": {
        "id": "bO5n507RB21C"
      },
      "execution_count": null,
      "outputs": []
    },
    {
      "cell_type": "code",
      "source": [
        "# 11. Write a Python program that uses a try-except block to handle an error when attempting to access a dictionary key that doesn't exist.\n",
        "\n",
        "# Define a sample dictionary\n",
        "student = {\n",
        "    \"name\": \"Harsh\",\n",
        "    \"age\": 22\n",
        "}\n",
        "\n",
        "# Attempt to access a key that may not exist\n",
        "try:\n",
        "    print(\"Grade:\", student[\"grade\"])\n",
        "except KeyError:\n",
        "    print(\"Error: The key 'grade' does not exist in the dictionary.\")\n"
      ],
      "metadata": {
        "id": "SD0OH38ICBMT"
      },
      "execution_count": null,
      "outputs": []
    },
    {
      "cell_type": "code",
      "source": [
        "# 12. Write a program that demonstrates using multiple except blocks to handle different types of exceptions.\n",
        "\n",
        "try:\n",
        "    # Attempt to perform operations that may raise different exceptions\n",
        "    num = int(input(\"Enter a number: \"))\n",
        "    result = 10 / num\n",
        "    items = [1, 2, 3]\n",
        "    print(items[5])  # IndexError\n",
        "except ValueError:\n",
        "    print(\"Error: Invalid input! Please enter a valid integer.\")\n",
        "except ZeroDivisionError:\n",
        "    print(\"Error: Cannot divide by zero.\")\n",
        "except IndexError:\n",
        "    print(\"Error: List index out of range.\")\n"
      ],
      "metadata": {
        "id": "QAfIPCcFCP65"
      },
      "execution_count": null,
      "outputs": []
    },
    {
      "cell_type": "code",
      "source": [
        "# 13.  How would you check if a file exists before attempting to read it in Python?\n",
        "\n",
        "import os\n",
        "\n",
        "filename = \"example.txt\"\n",
        "\n",
        "if os.path.exists(filename):\n",
        "    with open(filename, \"r\") as file:\n",
        "        content = file.read()\n",
        "        print(content)\n",
        "else:\n",
        "    print(f\"Error: The file '{filename}' does not exist.\")\n"
      ],
      "metadata": {
        "id": "fzPLgYCsCZ7Y"
      },
      "execution_count": null,
      "outputs": []
    },
    {
      "cell_type": "code",
      "source": [
        "# 14. Write a program that uses the logging module to log both informational and error messages.\n",
        "\n",
        "import logging\n",
        "\n",
        "# Configure logging\n",
        "logging.basicConfig(\n",
        "    filename='app_log.txt',\n",
        "    level=logging.DEBUG,  # Logs all levels DEBUG and above\n",
        "    format='%(asctime)s - %(levelname)s - %(message)s'\n",
        ")\n",
        "\n",
        "# Log an informational message\n",
        "logging.info(\"Program started successfully.\")\n",
        "\n",
        "# Simulate a process and log an error\n",
        "try:\n",
        "    x = 10\n",
        "    y = 0\n",
        "    result = x / y\n",
        "except ZeroDivisionError as e:\n",
        "    logging.error(\"Division by zero occurred: %s\", e)\n",
        "\n",
        "# Log another info\n",
        "logging.info(\"Program completed.\")\n"
      ],
      "metadata": {
        "id": "4qwkw7giCjWM"
      },
      "execution_count": null,
      "outputs": []
    },
    {
      "cell_type": "code",
      "source": [
        "# 15. Write a Python program that prints the content of a file and handles the case when the file is empty.\n",
        "\n",
        "import os\n",
        "\n",
        "filename = \"example.txt\"\n",
        "\n",
        "# Check if the file exists\n",
        "if os.path.exists(filename):\n",
        "    with open(filename, \"r\") as file:\n",
        "        content = file.read()\n",
        "        if content.strip() == \"\":\n",
        "            print(\"The file exists but is empty.\")\n",
        "        else:\n",
        "            print(\"File Content:\")\n",
        "            print(content)\n",
        "else:\n",
        "    print(f\"Error: The file '{filename}' does not exist.\")\n"
      ],
      "metadata": {
        "id": "QfgKeNU6CrLA"
      },
      "execution_count": null,
      "outputs": []
    },
    {
      "cell_type": "code",
      "source": [
        "# 16. Demonstrate how to use memory profiling to check the memory usage of a small program.\n",
        "# Step 1: Install memory_profiler\n",
        "!pip install memory-profiler\n"
      ],
      "metadata": {
        "id": "g-CwYA5ACzpz"
      },
      "execution_count": null,
      "outputs": []
    },
    {
      "cell_type": "code",
      "source": [
        "#Step 2: Create a small program with memory profiling\n",
        "from memory_profiler import profile\n",
        "\n",
        "@profile\n",
        "def create_large_list():\n",
        "    # This will consume noticeable memory\n",
        "    data = [i * 2 for i in range(1000000)]\n",
        "    return data\n",
        "\n",
        "create_large_list()\n"
      ],
      "metadata": {
        "id": "WvARPry8DARy"
      },
      "execution_count": null,
      "outputs": []
    },
    {
      "cell_type": "code",
      "source": [
        "# Step 3: Run with memory profiler (in script or CLI)\n",
        "\n",
        "from memory_profiler import memory_usage\n",
        "\n",
        "def create_large_list():\n",
        "    data = [i * 2 for i in range(1000000)]\n",
        "    return data\n",
        "\n",
        "mem_usage = memory_usage(create_large_list)\n",
        "print(f\"Memory used: {max(mem_usage) - min(mem_usage):.2f} MiB\")\n"
      ],
      "metadata": {
        "id": "FBEY0KZeDzui"
      },
      "execution_count": null,
      "outputs": []
    },
    {
      "cell_type": "code",
      "source": [
        "# 17. Write a Python program to create and write a list of numbers to a file, one number per line.\n",
        "\n",
        "# List of numbers to write\n",
        "numbers = [10, 20, 30, 40, 50]\n",
        "\n",
        "# Open the file in write mode\n",
        "with open(\"numbers.txt\", \"w\") as file:\n",
        "    for num in numbers:\n",
        "        file.write(f\"{num}\\n\")\n",
        "\n",
        "print(\"Numbers have been written to 'numbers.txt'.\")\n",
        "\n"
      ],
      "metadata": {
        "id": "NV0E8rnfDP7X"
      },
      "execution_count": null,
      "outputs": []
    },
    {
      "cell_type": "code",
      "source": [
        "# 18. How would you implement a basic logging setup that logs to a file with rotation after 1MB?\n",
        "\n",
        "import logging\n",
        "from logging.handlers import RotatingFileHandler\n",
        "\n",
        "# Set up the rotating handler\n",
        "log_handler = RotatingFileHandler(\n",
        "    \"rotating_app.log\",      # Log file name\n",
        "    maxBytes=1 * 1024 * 1024, # 1MB rotation size\n",
        "    backupCount=5             # Keep up to 5 backup files\n",
        ")\n",
        "\n",
        "# Configure logging\n",
        "logging.basicConfig(\n",
        "    level=logging.INFO,\n",
        "    handlers=[log_handler],\n",
        "    format='%(asctime)s - %(levelname)s - %(message)s'\n",
        ")\n",
        "\n",
        "# Generate logs to test rotation\n",
        "for i in range(10000):\n",
        "    logging.info(f\"This is log message number {i}\")\n"
      ],
      "metadata": {
        "id": "EVBf5StRET0W"
      },
      "execution_count": null,
      "outputs": []
    },
    {
      "cell_type": "code",
      "source": [
        "# 19. Write a program that handles both IndexError and KeyError using a try-except block.\n",
        "\n",
        "# Sample list and dictionary\n",
        "my_list = [10, 20, 30]\n",
        "my_dict = {\"name\": \"Harsh\", \"age\": 22}\n",
        "\n",
        "try:\n",
        "    # Accessing invalid index in list\n",
        "    print(\"List element:\", my_list[5])\n",
        "\n",
        "    # Accessing invalid key in dictionary\n",
        "    print(\"Grade:\", my_dict[\"grade\"])\n",
        "\n",
        "except IndexError:\n",
        "    print(\"Error: List index out of range.\")\n",
        "\n",
        "except KeyError:\n",
        "    print(\"Error: Dictionary key not found.\")\n"
      ],
      "metadata": {
        "id": "NMHLxoavEdUq"
      },
      "execution_count": null,
      "outputs": []
    },
    {
      "cell_type": "code",
      "source": [
        "# 20. How would you open a file and read its contents using a context manager in Python?\n",
        "\n",
        "# Using a context manager to open and read a file\n",
        "with open(\"example.txt\", \"r\") as file:\n",
        "    content = file.read()\n",
        "    print(content)\n"
      ],
      "metadata": {
        "id": "WHRbtN7oEmE5"
      },
      "execution_count": null,
      "outputs": []
    },
    {
      "cell_type": "code",
      "source": [
        "# 21. Write a Python program that reads a file and prints the number of occurrences of a specific word?\n",
        "\n",
        "# Define the file name and the word to search\n",
        "filename = \"example.txt\"\n",
        "search_word = \"python\"\n",
        "\n",
        "# Initialize a counter\n",
        "count = 0\n",
        "\n",
        "# Open and read the file\n",
        "with open(filename, \"r\") as file:\n",
        "    for line in file:\n",
        "        # Convert to lowercase and split line into words\n",
        "        words = line.lower().split()\n",
        "        count += words.count(search_word.lower())\n",
        "\n",
        "print(f\"The word '{search_word}' occurred {count} times in '{filename}'.\")\n"
      ],
      "metadata": {
        "id": "qN0YvmbyEwGw"
      },
      "execution_count": null,
      "outputs": []
    },
    {
      "cell_type": "code",
      "source": [
        "# 22. How can you check if a file is empty before attempting to read its contents?\n",
        "\n",
        "import os\n",
        "\n",
        "filename = \"example.txt\"\n",
        "\n",
        "# Check if the file exists and is not empty\n",
        "if os.path.exists(filename):\n",
        "    if os.stat(filename).st_size == 0:\n",
        "        print(f\"The file '{filename}' is empty.\")\n",
        "    else:\n",
        "        with open(filename, \"r\") as file:\n",
        "            content = file.read()\n",
        "            print(\"File content:\")\n",
        "            print(content)\n",
        "else:\n",
        "    print(f\"Error: The file '{filename}' does not exist.\")\n"
      ],
      "metadata": {
        "id": "6C6UtbBtE62o"
      },
      "execution_count": null,
      "outputs": []
    },
    {
      "cell_type": "code",
      "source": [
        "# 23. Write a Python program that writes to a log file when an error occurs during file handling.\n",
        "\n",
        "import logging\n",
        "\n",
        "# Configure the logging\n",
        "logging.basicConfig(\n",
        "    filename='file_errors.log',\n",
        "    level=logging.ERROR,\n",
        "    format='%(asctime)s - %(levelname)s - %(message)s'\n",
        ")\n",
        "\n",
        "filename = \"nonexistent_file.txt\"\n",
        "\n",
        "try:\n",
        "    # Attempt to open a file that may not exist\n",
        "    with open(filename, \"r\") as file:\n",
        "        content = file.read()\n",
        "        print(content)\n",
        "\n",
        "except FileNotFoundError as e:\n",
        "    logging.error(\"FileNotFoundError: Failed to open '%s' - %s\", filename, e)\n",
        "    print(f\"Error: The file '{filename}' could not be found. See log for details.\")\n"
      ],
      "metadata": {
        "id": "HJWRlz0JFD7C"
      },
      "execution_count": null,
      "outputs": []
    }
  ]
}