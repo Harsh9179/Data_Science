{
  "nbformat": 4,
  "nbformat_minor": 0,
  "metadata": {
    "colab": {
      "provenance": []
    },
    "kernelspec": {
      "name": "python3",
      "display_name": "Python 3"
    },
    "language_info": {
      "name": "python"
    }
  },
  "cells": [
    {
      "cell_type": "markdown",
      "source": [
        "# Python Basics Questions"
      ],
      "metadata": {
        "id": "IsTb2QY1p7Zo"
      }
    },
    {
      "cell_type": "markdown",
      "source": [
        "1. What is Python, and why is it popular?\n",
        "\n",
        "    -Python is a high-level, easy-to-learn programming language that people use to build all kinds of software—like websites, apps, games, data analysis tools, and even artificial intelligence systems. It was created to be simple and readable, which means even beginners can understand and start coding without getting overwhelmed.\n",
        "    \n",
        "    One of the main reasons Python is so popular is its clean and simple syntax. Writing code in Python feels almost like writing in English, which makes it great for learning and fast development. It’s also very versatile—you can use it for web development (using frameworks like Django or Flask), data science, automation, machine learning, and more.\n",
        "    \n",
        "    Another big reason for its popularity is its huge community and libraries. No matter what you're trying to do, there's probably already a library or tool in Python to help you. Plus, if you ever get stuck, there are tons of tutorials, forums, and other people willing to help.\n",
        "    \n",
        "    In short, Python is popular because it’s easy to use, flexible, and supported by a strong community. It’s a great choice for beginners and professionals alike.\n",
        "\n",
        "\n",
        "2. What is an interpreter in Python?\n",
        "\n",
        "    -In simple words, an interpreter in Python is a program that reads and runs your Python code line by line.\n",
        "    \n",
        "    When you write Python code (like print(\"Hello World\")), the interpreter goes through it one line at a time, understands what it means, and then performs the action—like displaying the text on the screen.\n",
        "    \n",
        "    Unlike some other languages that need to be compiled first (converted completely into machine code before running), Python doesn't need that. Instead, the interpreter handles it all during runtime, which makes it easier to test and see results quickly.\n",
        "    \n",
        "    So, you can think of the Python interpreter as the \"middleman\" that takes your code and tells the computer what to do, one instruction at a time.\n",
        "\n",
        "\n",
        "3. What are pre-defined keywords in Python?\n",
        "    \n",
        "    -Pre-defined keywords in Python are special words that have a fixed meaning in the language. These words are reserved, which means you can't use them as variable names or identifiers in your code.\n",
        "    \n",
        "    Each keyword plays a specific role in Python's grammar and is used to write instructions like conditions, loops, functions, etc.\n",
        "    \n",
        "    For example:\n",
        "\n",
        "    if, else, elif –> used for making decisions\n",
        "\n",
        "    for, while –> used for loops\n",
        "\n",
        "    def –> used to define a function\n",
        "\n",
        "    True, False –> used for boolean values\n",
        "\n",
        "    import –> used to bring in external code or libraries\n",
        "    \n",
        "    There are around 30+ keywords in Python (the exact number can change with versions). You can always see the full list using this command:\n",
        "\n",
        "    import keyword\n",
        "    print(keyword.kwlist)\n",
        "\n",
        "    In short, pre-defined keywords are the building blocks of Python code, and you should avoid using them for naming your variables.\n",
        "\n",
        "\n",
        "4. Can keywords be used as variable names?\n",
        "    \n",
        "    -No, keywords cannot be used as variable names in Python.\n",
        "\n",
        "    example->\n",
        "\n",
        "    if = 5    -->This will give an error\n",
        "\n",
        "\n",
        "5. What is mutability in Python?\n",
        "    \n",
        "    -In simple terms, mutability in Python refers to whether or not an object (like a list, string, or dictionary) can be changed after it’s created.\n",
        "    \n",
        "    ->If an object can be changed, it is called mutable.\n",
        "    ->If an object cannot be changed, it is called immutable.\n",
        "    \n",
        "    Examples:\n",
        "    Mutable objects:\n",
        "    1)list\n",
        "    2)dictionary\n",
        "    3)set\n",
        "\n",
        "    code-->\n",
        "\n",
        "    my_list = [1, 2, 3]\n",
        "\n",
        "    my_list.append(4)   --> List changed\n",
        "    \n",
        "    print(my_list)      --> Output: [1, 2, 3, 4]\n",
        "\n",
        "\n",
        "6. Why are lists mutable, but tuples are immutable?\n",
        "\n",
        "    -The main reason lies in the design and purpose of these two data types in Python.\n",
        "    \n",
        "    -->Lists are mutable because:\n",
        "    \n",
        "    They are meant to hold changing data.\n",
        "    \n",
        "    You can add, remove, or change elements in a list after it's created.\n",
        "    \n",
        "    This makes lists very useful when you need a collection that can be updated.\n",
        "    \n",
        "    Example:\n",
        "    \n",
        "    my_list = [1, 2, 3]\n",
        "    \n",
        "    my_list[0] = 10      # Changing the first item\n",
        "    \n",
        "    print(my_list)       # Output: [10, 2, 3]\n",
        "    \n",
        "    -->Tuples are immutable because:\n",
        "    \n",
        "    They are designed to store fixed data.\n",
        "    \n",
        "    Once a tuple is created, its elements cannot be changed, added, or removed.\n",
        "    \n",
        "    This makes tuples faster and safer, especially when you want to protect data from accidental changes.\n",
        "    \n",
        "    Example:\n",
        "    \n",
        "    my_tuple = (1, 2, 3)\n",
        "    \n",
        "    my_tuple[0] = 10     #  Error: 'tuple' object does not support item assignment\n",
        "    \n",
        "    -->Why this difference?\n",
        "    \n",
        "    Performance: Tuples are generally faster than lists.\n",
        "    \n",
        "    Safety: Since tuples can't be changed, they are safer to use when you want to ensure data doesn't get modified accidentally (like dictionary keys).\n",
        "    \n",
        "    In short:\n",
        "    \n",
        "    Lists are mutable because they're made to change.\n",
        "    \n",
        "    Tuples are immutable because they're made to stay the same.\n",
        "    \n",
        "    Python gives you both, so you can choose the right one depending on your needs.\n",
        "\n",
        "  \n",
        "7. What is the difference between “==” and “is” operators in Python?\n",
        "\n",
        "    -In Python, both == and is are used for comparison, but they are not the same. They check different things:\n",
        "    \n",
        "    1)  == → Checks if values are equal\n",
        "    \n",
        "    It compares the contents of two objects.\n",
        "    \n",
        "    It returns True if the values look the same, even if they are stored in different memory locations.\n",
        "    \n",
        "    Example:\n",
        "    \n",
        "    a = [1, 2, 3]\n",
        "    \n",
        "    b = [1, 2, 3]\n",
        "    \n",
        "    print(a == b)  # Output: True (because contents are same)\n",
        "    \n",
        "    2)  is → Checks if both refer to the same object in memory\n",
        "    \n",
        "    It checks whether both variables point to the exact same object (same memory address).\n",
        "    \n",
        "    Even if the values are the same, is will return False if they are not the same object.\n",
        "    \n",
        "    Example:\n",
        "    \n",
        "    a = [1, 2, 3]\n",
        "    \n",
        "    b = [1, 2, 3]\n",
        "    \n",
        "    print(a is b)  # Output: False (because they are two different objects in memory)\n",
        "    \n",
        "    But:\n",
        "    \n",
        "    a = b\n",
        "    \n",
        "    print(a is b)  # Output: True (because both refer to the same object now)\n",
        "\n",
        "\n",
        "8. What are logical operators in Python?\n",
        "\n",
        "    -Logical operators in Python are used to combine or compare two or more conditions. They return either True or False based on the logic\n",
        "    \n",
        "    There are three main logical operators in Python:\n",
        "    \n",
        "    1) and\n",
        "    \n",
        "    Returns True only if both conditions are True\n",
        "    \n",
        "    If even one condition is False, the result is False.\n",
        "    \n",
        "    Example:\n",
        "    \n",
        "    x = 10\n",
        "    \n",
        "    print(x > 5 and x < 15)   # True (both conditions are true)\n",
        "    \n",
        "    2) or\n",
        "    \n",
        "    Returns True if at least one condition is True\n",
        "    \n",
        "    Only returns False if both conditions are False\n",
        "    \n",
        "    Example:\n",
        "    \n",
        "    x = 10\n",
        "    \n",
        "    print(x > 15 or x < 20)   # True (second condition is true)\n",
        "    \n",
        "    3) not\n",
        "    \n",
        "    Reverses the result\n",
        "    \n",
        "    If the condition is True, not makes it False, and vice versa.\n",
        "    \n",
        "    Example:\n",
        "    \n",
        "    x = 10\n",
        "    \n",
        "    print(not x > 5)          # False (because x > 5 is True, and not True = False)\n",
        "\n",
        "\n",
        "9. What is type casting in Python?\n",
        "\n",
        "    -Type casting in Python means converting one data type into another. It’s useful when you want to perform operations that require values to be in a specific type—like turning a string into a number, or a float into an integer.\n",
        "\n",
        "    Example of type casting:\n",
        "\n",
        "    a = \"5\"\n",
        "    \n",
        "    b = int(a)    # Converts string \"5\" to integer 5\n",
        "    \n",
        "    print(b + 3)  # Output: 8\n",
        "    \n",
        "    Here, int(a) is type casting from a string to an integer.\n",
        "\n",
        "    -->In short:\n",
        "    \n",
        "    Type casting helps you manually convert data types to make your code work the way you want.\n",
        "\n",
        "\n",
        "10. What is the difference between implicit and explicit type casting?\n",
        "\n",
        "    -In Python, type casting means changing the data type of a value. There are two types of casting:\n",
        "    \n",
        "    1) Implicit Type Casting\n",
        "    \n",
        "    Python automatically converts one data type to another.\n",
        "    \n",
        "    This happens behind the scenes, and you don't have to do anything.\n",
        "    \n",
        "    It usually happens when you mix different data types in an operation, and Python safely converts the result.\n",
        "    \n",
        "    Example:\n",
        "    \n",
        "    x = 5        # integer\n",
        "    \n",
        "    y = 2.0      # float\n",
        "    \n",
        "    z = x + y    # Python automatically converts x to float\n",
        "    \n",
        "    print(z)     # Output: 7.0 (float)\n",
        "    \n",
        "    Here, Python implicitly changed x from int to float.\n",
        "    \n",
        "    2) Explicit Type Casting\n",
        "    \n",
        "    You manually convert one data type into another using functions like int(), float(), or str().\n",
        "    \n",
        "    It gives you more control, but you must be careful because not all conversions are safe.\n",
        "    \n",
        "    Example:\n",
        "    \n",
        "    x = \"10\"\n",
        "    \n",
        "    y = int(x)    # Explicitly converting string to integer\n",
        "    \n",
        "    print(y + 5)  # Output: 15\n",
        "    \n",
        "    Here, you explicitly told Python to convert \"10\" (a string) into an integer.\n",
        "\n",
        "    In short:\n",
        "    \n",
        "    Implicit = Python decides.\n",
        "    \n",
        "    Explicit = You decide.\n",
        "    \n",
        "    Both are helpful in writing error-free, flexible Python programs.\n",
        "\n",
        "\n",
        "11. What is the purpose of conditional statements in Python?\n",
        "\n",
        "    -The purpose of conditional statements in Python is to let your program make decisions.\n",
        "    \n",
        "    In simple words, conditional statements help your program choose what to do based on certain conditions. Just like in real life—“if it’s raining, take an umbrella”—Python can also decide what action to take depending on whether a condition is True or False.\n",
        "    \n",
        "    Main conditional statements in Python:\n",
        "    \n",
        "    if --> checks a condition and runs a block of code if it's True\n",
        "    \n",
        "    elif (else if) –-> checks another condition if the previous if was False\n",
        "    \n",
        "    else –-> runs a block of code if none of the above conditions are True\n",
        "    \n",
        "    Example:\n",
        "    \n",
        "    age = 18\n",
        "    \n",
        "    if age >= 18:\n",
        "    \n",
        "    print(\"You can vote.\")\n",
        "    \n",
        "    else:\n",
        "    \n",
        "    print(\"You cannot vote yet.\")\n",
        "    \n",
        "    In this example, Python checks the condition age >= 18.\n",
        "    \n",
        "    If it's true, it prints \"You can vote.\"\n",
        "    \n",
        "    If not, it prints \"You cannot vote yet.\"\n",
        "    \n",
        "    -->In short:\n",
        "    \n",
        "    Conditional statements let your program react to different situations. They make your code smart and interactive, instead of just running the same thing every time.\n",
        "\n",
        "\n",
        "12. How does the elif statement work?\n",
        "\n",
        "    -The elif statement in Python is used when you want to check more than one condition in your program, but not all at once. It's like saying:\n",
        "    \n",
        "    “If this is true, do this… else if that's true, do something else…”\n",
        "    \n",
        "    You start with an if statement. If that condition isn't true, Python will move on to check the elif. You can even add multiple elif blocks if you have more conditions. As soon as one condition is true, Python will run that block of code and skip the rest.\n",
        "    \n",
        "    Here's a simple example:\n",
        "    \n",
        "    temperature = 25\n",
        "    \n",
        "    if temperature > 30:\n",
        "    \n",
        "    print(\"It's hot outside.\")\n",
        "    \n",
        "    elif temperature > 20:\n",
        "    \n",
        "    print(\"The weather is nice.\")\n",
        "    \n",
        "    elif temperature > 10:\n",
        "    \n",
        "    print(\"It’s a bit cold.\")\n",
        "    \n",
        "    else:\n",
        "    \n",
        "    print(\"It’s freezing!\")\n",
        "    \n",
        "    -->So if the temperature is 25, the output will be:\n",
        "    \n",
        "    “The weather is nice.”\n",
        "    \n",
        "    Why? Because the first if is false, then Python checks the elif temperature > 20, which is true, so it runs that block and stops there.\n",
        "    \n",
        "    -->In short, elif helps you make your code smarter by checking multiple possibilities in a clean and readable way.\n",
        "\n",
        "\n",
        "13. What is the difference between for and while loops?\n",
        "\n",
        "    -In Python, both for and while loops are used to repeat a block of code, but the main difference is how and when they stop.\n",
        "    \n",
        "    1)for loop –-> Used when you know in advance how many times you want to run the loop.\n",
        "    \n",
        "    It goes through a sequence (like a list, range, or string) one by one, and runs the code for each item.\n",
        "    \n",
        "    Example:\n",
        "    \n",
        "    for i in range(5):\n",
        "    \n",
        "    print(i)\n",
        "    \n",
        "    This will print numbers from 0 to 4. You know it'll run exactly 5 times.\n",
        "    \n",
        "    2)while loop –-> Used when you don't know in advance how many times the loop will run.\n",
        "    \n",
        "    It keeps running as long as a condition is true.\n",
        "    \n",
        "    Example:\n",
        "    \n",
        "    count = 0\n",
        "    \n",
        "    while count < 5:\n",
        "    \n",
        "    print(count)\n",
        "    \n",
        "    count += 1\n",
        "    \n",
        "    This will also print numbers from 0 to 4, but here, the loop runs until the condition count < 5 becomes false.\n",
        "    \n",
        "    -->In simple words:\n",
        "    \n",
        "    Use a for loop when you're looping over something with a fixed number of steps (like going through a list, or using range()).\n",
        "    \n",
        "    Use a while loop when you need to repeat something until a certain condition is met, and you're not sure how many times it will take.\n",
        "\n",
        "\n",
        "14. Describe a scenario where a while loop is more suitable than a for loop?\n",
        "\n",
        "    -Let’s say you're building a simple guessing game. The user has to keep guessing a secret number until they get it right. In this case, you don’t know how many guesses the user will need—it could be 1 try, or 10.\n",
        "    \n",
        "    This is a perfect situation to use a while loop, because you want the loop to keep running until the correct guess is made, not for a fixed number of times.\n",
        "    \n",
        "    Example:\n",
        "    \n",
        "    secret_number = 7\n",
        "    \n",
        "    guess = int(input(\"Guess the number: \"))\n",
        "    \n",
        "    while guess != secret_number:\n",
        "    \n",
        "    print(\"Wrong guess. Try again.\")\n",
        "    \n",
        "    guess = int(input(\"Guess the number: \"))\n",
        "    \n",
        "    print(\"Congratulations! You guessed it right.\")\n",
        "    \n",
        "    -->In this case, a for loop wouldn’t be ideal because you can’t predict how many times the user will get it wrong. The while loop keeps going as long as the condition is not met, which is exactly what we need.\n",
        "    \n",
        "    -->In short:\n",
        "    \n",
        "    Use a while loop when the number of repetitions depends on a condition being true, not on a fixed count.\n",
        "\n",
        "\n",
        "\n",
        "\n",
        "\n",
        "\n",
        "\n",
        "\n",
        "\n",
        "\n",
        "\n",
        "\n",
        "\n"
      ],
      "metadata": {
        "id": "yZ9Oag-DqFzo"
      }
    },
    {
      "cell_type": "markdown",
      "source": [
        "# Practical Questions"
      ],
      "metadata": {
        "id": "eBxBxTVBixGJ"
      }
    },
    {
      "cell_type": "code",
      "execution_count": null,
      "metadata": {
        "colab": {
          "base_uri": "https://localhost:8080/"
        },
        "id": "-cSI6XnOpge_",
        "outputId": "cf3a2c64-6516-42df-8a13-1b36ff5c4752"
      },
      "outputs": [
        {
          "output_type": "stream",
          "name": "stdout",
          "text": [
            "Hello, World!\n"
          ]
        }
      ],
      "source": [
        "#1) Write a Python program to print \"Hello, World!\"\n",
        "\n",
        "print(\"Hello, World!\")\n",
        "\n"
      ]
    },
    {
      "cell_type": "code",
      "source": [
        "#2) Write a Python program that displays your name and age.\n",
        "\n",
        "name= input(\"Enter your name: \")\n",
        "age= int(input(\"Enter your age: \"))\n",
        "print (f\"Your name is:{name}\")\n",
        "print (f\"Your age is:{age}\")"
      ],
      "metadata": {
        "colab": {
          "base_uri": "https://localhost:8080/"
        },
        "id": "KaOYrT_2jlYm",
        "outputId": "6390aeb8-1d31-40e2-96e4-eac245582adc"
      },
      "execution_count": null,
      "outputs": [
        {
          "output_type": "stream",
          "name": "stdout",
          "text": [
            "Enter your name: Maanvik\n",
            "Enter your age: 13\n",
            "Your name is:Maanvik\n",
            "Your age is:13\n"
          ]
        }
      ]
    },
    {
      "cell_type": "code",
      "source": [
        "# 3) Write code to print all the pre-defined keywords in Python using the keyword library.\n",
        "\n",
        "\n",
        "import keyword\n",
        "print(keyword.kwlist)"
      ],
      "metadata": {
        "colab": {
          "base_uri": "https://localhost:8080/"
        },
        "id": "C4Ayw0GhlR7x",
        "outputId": "9de89b69-bba7-4aa2-e820-d1acf4eca571"
      },
      "execution_count": null,
      "outputs": [
        {
          "output_type": "stream",
          "name": "stdout",
          "text": [
            "['False', 'None', 'True', 'and', 'as', 'assert', 'async', 'await', 'break', 'class', 'continue', 'def', 'del', 'elif', 'else', 'except', 'finally', 'for', 'from', 'global', 'if', 'import', 'in', 'is', 'lambda', 'nonlocal', 'not', 'or', 'pass', 'raise', 'return', 'try', 'while', 'with', 'yield']\n"
          ]
        }
      ]
    },
    {
      "cell_type": "code",
      "source": [
        "# 4) Write a program that checks if a given word is a Python keyword.\n",
        "\n",
        "import keyword\n",
        "\n",
        "word = input(\"Enter a word to check: \")\n",
        "\n",
        "if keyword.iskeyword(word):\n",
        "    print(f\"'{word}' is a Python keyword.\")\n",
        "else:\n",
        "    print(f\"'{word}' is NOT a Python keyword.\")"
      ],
      "metadata": {
        "colab": {
          "base_uri": "https://localhost:8080/"
        },
        "id": "EiXeQRNNmUUG",
        "outputId": "91478e20-f7da-4a97-82d7-19585be63bd5"
      },
      "execution_count": null,
      "outputs": [
        {
          "output_type": "stream",
          "name": "stdout",
          "text": [
            "Enter a word to check: if\n",
            "'if' is a Python keyword.\n"
          ]
        }
      ]
    },
    {
      "cell_type": "code",
      "source": [
        "#5) Create a list and tuple in Python, and demonstrate how attempting to change an element works differently\n",
        "#   for each.\n",
        "\n",
        "# Creating a list\n",
        "my_list = [10, 20, 30]\n",
        "print(\"Original list:\", my_list)\n",
        "\n",
        "# Changing the second item in the list\n",
        "my_list[1] = 200\n",
        "print(\"List after changing second item:\", my_list)\n",
        "\n",
        "# Creating a tuple\n",
        "my_tuple = (10, 20, 30)\n",
        "print(\"\\nOriginal tuple:\", my_tuple)\n",
        "\n",
        "# Trying to change the second item in the tuple (This will raise an error!)\n",
        "try:\n",
        "    my_tuple[1] = 200\n",
        "except TypeError as e:\n",
        "    print(\"Error while trying to change tuple:\", e)\n"
      ],
      "metadata": {
        "id": "b_37-pasqNQr",
        "colab": {
          "base_uri": "https://localhost:8080/"
        },
        "outputId": "b12b83f6-07e0-422f-94ae-ed32f33546ee"
      },
      "execution_count": 3,
      "outputs": [
        {
          "output_type": "stream",
          "name": "stdout",
          "text": [
            "Original list: [10, 20, 30]\n",
            "List after changing second item: [10, 200, 30]\n",
            "\n",
            "Original tuple: (10, 20, 30)\n",
            "Error while trying to change tuple: 'tuple' object does not support item assignment\n"
          ]
        }
      ]
    },
    {
      "cell_type": "code",
      "source": [
        "# 6)  Write a function to demonstrate the behavior of mutable and immutable arguments.\n",
        "\n",
        "def modify_data(num, my_list):\n",
        "    print(\"\\nInside the function:\")\n",
        "    print(\"Original num:\", num)\n",
        "    print(\"Original list:\", my_list)\n",
        "\n",
        "    # Try changing both\n",
        "    num = num + 10\n",
        "    my_list.append(100)\n",
        "\n",
        "    print(\"Modified num:\", num)\n",
        "    print(\"Modified list:\", my_list)\n",
        "\n",
        "# Immutable integer\n",
        "number = 5\n",
        "\n",
        "# Mutable list\n",
        "my_list = [1, 2, 3]\n",
        "\n",
        "print(\"Before calling the function:\")\n",
        "print(\"Number:\", number)\n",
        "print(\"List:\", my_list)\n",
        "\n",
        "# Call the function\n",
        "modify_data(number, my_list)\n",
        "\n",
        "print(\"\\nAfter calling the function:\")\n",
        "print(\"Number:\", number)      # Still 5 — because int is immutable\n",
        "print(\"List:\", my_list)       # Changed — because list is mutable\n"
      ],
      "metadata": {
        "colab": {
          "base_uri": "https://localhost:8080/"
        },
        "id": "1bXOUSFFZQYI",
        "outputId": "5ce1e649-81da-4a41-8091-2d3dbd948df0"
      },
      "execution_count": 4,
      "outputs": [
        {
          "output_type": "stream",
          "name": "stdout",
          "text": [
            "Before calling the function:\n",
            "Number: 5\n",
            "List: [1, 2, 3]\n",
            "\n",
            "Inside the function:\n",
            "Original num: 5\n",
            "Original list: [1, 2, 3]\n",
            "Modified num: 15\n",
            "Modified list: [1, 2, 3, 100]\n",
            "\n",
            "After calling the function:\n",
            "Number: 5\n",
            "List: [1, 2, 3, 100]\n"
          ]
        }
      ]
    },
    {
      "cell_type": "code",
      "source": [
        "# 7)  Write a program that performs basic arithmetic operations on two user-input numbers.\n",
        "\n",
        "# Ask the user to input two numbers\n",
        "num1 = float(input(\"Enter the first number: \"))\n",
        "num2 = float(input(\"Enter the second number: \"))\n",
        "\n",
        "# Perform arithmetic operations\n",
        "add = num1 + num2\n",
        "subtract = num1 - num2\n",
        "multiply = num1 * num2\n",
        "\n",
        "# Handle division safely\n",
        "if num2 != 0:\n",
        "    divide = num1 / num2\n",
        "else:\n",
        "    divide = \"Undefined (can't divide by zero)\"\n",
        "\n",
        "# Display results\n",
        "print(\"\\n--- Results ---\")\n",
        "print(\"Addition:\", add)\n",
        "print(\"Subtraction:\", subtract)\n",
        "print(\"Multiplication:\", multiply)\n",
        "print(\"Division:\", divide)\n"
      ],
      "metadata": {
        "colab": {
          "base_uri": "https://localhost:8080/"
        },
        "id": "8dGeyuFnb10h",
        "outputId": "75c02bdf-0f2f-4a5d-82fc-be55d8324cb3"
      },
      "execution_count": 11,
      "outputs": [
        {
          "output_type": "stream",
          "name": "stdout",
          "text": [
            "Enter the first number: 2\n",
            "Enter the second number: 3\n",
            "\n",
            "--- Results ---\n",
            "Addition: 5.0\n",
            "Subtraction: -1.0\n",
            "Multiplication: 6.0\n",
            "Division: 0.6666666666666666\n"
          ]
        }
      ]
    },
    {
      "cell_type": "code",
      "source": [
        "# 8)  Write a program to demonstrate the use of logical operators.\n",
        "\n",
        "# Ask the user to input two numbers\n",
        "a = int(input(\"Enter first number: \"))\n",
        "b = int(input(\"Enter second number: \"))\n",
        "\n",
        "print(\"\\n--- Logical Operator Results ---\")\n",
        "\n",
        "# Using 'and' operator\n",
        "if a > 0 and b > 0:\n",
        "    print(\"Both numbers are positive (a > 0 and b > 0)\")\n",
        "\n",
        "# Using 'or' operator\n",
        "if a > 0 or b > 0:\n",
        "    print(\"At least one number is positive (a > 0 or b > 0)\")\n",
        "\n",
        "# Using 'not' operator\n",
        "if not (a < 0 and b < 0):\n",
        "    print(\"It is not true that both numbers are negative\")\n",
        "else:\n",
        "    print(\"Both numbers are negative\")\n"
      ],
      "metadata": {
        "colab": {
          "base_uri": "https://localhost:8080/"
        },
        "id": "KO06Nausc7El",
        "outputId": "bdab9408-7912-4ba8-d38a-ed5514b65e30"
      },
      "execution_count": 8,
      "outputs": [
        {
          "output_type": "stream",
          "name": "stdout",
          "text": [
            "Enter first number: 1\n",
            "Enter second number: -5\n",
            "\n",
            "--- Logical Operator Results ---\n",
            "At least one number is positive (a > 0 or b > 0)\n",
            "It is not true that both numbers are negative\n"
          ]
        }
      ]
    },
    {
      "cell_type": "code",
      "source": [
        "# 9) Write a Python program to convert user input from string to integer, float, and boolean type.\n",
        "\n",
        "# Get user input as a string\n",
        "user_input = input(\"Enter a value: \")\n",
        "\n",
        "# Convert to integer\n",
        "try:\n",
        "    int_value = int(user_input)\n",
        "    print(\"Integer:\", int_value)\n",
        "except ValueError:\n",
        "    print(\"Cannot convert to Integer\")\n",
        "\n",
        "# Convert to float\n",
        "try:\n",
        "    float_value = float(user_input)\n",
        "    print(\"Float:\", float_value)\n",
        "except ValueError:\n",
        "    print(\"Cannot convert to Float\")\n",
        "\n",
        "# Convert to boolean\n",
        "# Any non-empty string (except 'False' or '0') is considered True\n",
        "bool_value = bool(user_input) and user_input.lower() not in ['false', '0', '']\n",
        "print(\"Boolean:\", bool_value)\n",
        "\n"
      ],
      "metadata": {
        "id": "FC4UByNfesw1"
      },
      "execution_count": null,
      "outputs": []
    },
    {
      "cell_type": "code",
      "source": [
        "# 10) Write code to demonstrate type casting with list elements\n",
        "\n",
        "# Original list with string numbers\n",
        "str_list = [\"10\", \"20\", \"30\", \"40\"]\n",
        "\n",
        "print(\"Original list (strings):\", str_list)\n",
        "\n",
        "# Convert each element to integer using type casting\n",
        "int_list = [int(item) for item in str_list]\n",
        "print(\"Converted to integers:\", int_list)\n",
        "\n",
        "# Now convert each integer to float\n",
        "float_list = [float(item) for item in int_list]\n",
        "print(\"Converted to floats:\", float_list)\n",
        "\n",
        "# Convert integers to boolean\n",
        "bool_list = [bool(item) for item in int_list]\n",
        "print(\"Converted to booleans:\", bool_list)\n",
        "\n",
        "# Just for fun: convert integers back to strings\n",
        "back_to_string = [str(item) for item in int_list]\n",
        "print(\"Converted back to strings:\", back_to_string)\n"
      ],
      "metadata": {
        "id": "E0PJrLfyf7dU"
      },
      "execution_count": null,
      "outputs": []
    },
    {
      "cell_type": "code",
      "source": [
        "# 11) Write a program that checks if a number is positive, negative, or zero.\n",
        "\n",
        "# Ask the user to enter a number\n",
        "num = float(input(\"Enter a number: \"))\n",
        "\n",
        "# Check if the number is positive, negative, or zero\n",
        "if num > 0:\n",
        "    print(\"The number is positive.\")\n",
        "elif num < 0:\n",
        "    print(\"The number is negative.\")\n",
        "else:\n",
        "    print(\"The number is zero.\")\n"
      ],
      "metadata": {
        "id": "aVbQnsOjgK4p"
      },
      "execution_count": null,
      "outputs": []
    },
    {
      "cell_type": "code",
      "source": [
        "# 12)  Write a for loop to print numbers from 1 to 10.\n",
        "\n",
        "for n in range(1,11):\n",
        "  print(n)"
      ],
      "metadata": {
        "colab": {
          "base_uri": "https://localhost:8080/"
        },
        "id": "2ZXNLC7qgdSE",
        "outputId": "b750804b-a953-43dc-e9d5-ef915c589000"
      },
      "execution_count": 13,
      "outputs": [
        {
          "output_type": "stream",
          "name": "stdout",
          "text": [
            "1\n",
            "2\n",
            "3\n",
            "4\n",
            "5\n",
            "6\n",
            "7\n",
            "8\n",
            "9\n",
            "10\n"
          ]
        }
      ]
    },
    {
      "cell_type": "code",
      "source": [
        "# 13) Write a Python program to find the sum of all even numbers between 1 and 50.\n",
        "\n",
        "sum=0\n",
        "for i in range(0,51,2):\n",
        "  sum=sum + i\n",
        "print(sum)"
      ],
      "metadata": {
        "colab": {
          "base_uri": "https://localhost:8080/"
        },
        "id": "ct5QnaUhhxSI",
        "outputId": "40d39cf3-08c3-49f2-f0d9-c8a1b08029c0"
      },
      "execution_count": 15,
      "outputs": [
        {
          "output_type": "stream",
          "name": "stdout",
          "text": [
            "650\n"
          ]
        }
      ]
    },
    {
      "cell_type": "code",
      "source": [
        "# 14) Write a program to reverse a string using a while loop.\n",
        "\n",
        "text= input(\"Enter your String: \")\n",
        "\n",
        "reverse_text = \"\"\n",
        "\n",
        "index= len(text) - 1\n",
        "\n",
        "while(index >=0):\n",
        "  reverse_text = reverse_text + text[index]\n",
        "  index= index - 1\n",
        "\n",
        "print(reverse_text)"
      ],
      "metadata": {
        "colab": {
          "base_uri": "https://localhost:8080/"
        },
        "id": "I6TZfbP9i1Pw",
        "outputId": "435da600-d870-43d7-b38e-a990ae75d85d"
      },
      "execution_count": 21,
      "outputs": [
        {
          "output_type": "stream",
          "name": "stdout",
          "text": [
            "Enter your String: harsh\n",
            "hsrah\n"
          ]
        }
      ]
    },
    {
      "cell_type": "code",
      "source": [
        "# 15)  Write a Python program to calculate the factorial of a number provided by the user using a while loop.\n",
        "\n",
        "\n",
        "num = int(input(\"Enter a number to find its factorial: \"))\n",
        "\n",
        "\n",
        "factorial = 1\n",
        "n = num\n",
        "\n",
        "# Handle the case for negative numbers\n",
        "if num < 0:\n",
        "    print(\"Factorial is not defined for negative numbers.\")\n",
        "else:\n",
        "\n",
        "    while n > 1:\n",
        "        factorial *= n\n",
        "        n -= 1\n",
        "\n",
        "\n",
        "    print(f\"Factorial of {num} is: {factorial}\")\n",
        "\n"
      ],
      "metadata": {
        "colab": {
          "base_uri": "https://localhost:8080/"
        },
        "id": "uIplikmKmAu0",
        "outputId": "e41c21a8-7bc9-44ee-8830-28b22bf2a23e"
      },
      "execution_count": 23,
      "outputs": [
        {
          "output_type": "stream",
          "name": "stdout",
          "text": [
            "Enter a number to find its factorial: 6\n",
            "Factorial of 6 is: 720\n"
          ]
        }
      ]
    }
  ]
}