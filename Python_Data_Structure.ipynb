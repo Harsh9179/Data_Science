{
  "nbformat": 4,
  "nbformat_minor": 0,
  "metadata": {
    "colab": {
      "provenance": []
    },
    "kernelspec": {
      "name": "python3",
      "display_name": "Python 3"
    },
    "language_info": {
      "name": "python"
    }
  },
  "cells": [
    {
      "cell_type": "markdown",
      "source": [
        "#Data Types and Structures Questions"
      ],
      "metadata": {
        "id": "wOPsUUPOHlf2"
      }
    },
    {
      "cell_type": "markdown",
      "source": [
        "1. What are data structures, and why are they important ?\n",
        "\n",
        "\n",
        "    -Data structures are like containers or special ways to store and organize data in a computer so that we can use it easily and efficiently.\n",
        "    \n",
        "    Think of them like different types of boxes or shelves where you can keep your things:\n",
        "    \n",
        "    1) A list is like a line of people or items, one after the other.\n",
        "    \n",
        "    2) A stack is like a pile of plates—last one you put on is the first one you take off.\n",
        "    \n",
        "    3) A queue is like people waiting in line at a shop—first come, first serve.\n",
        "    \n",
        "    4) A dictionary is like a real dictionary—look up a word (key) and get the meaning (value).\n",
        "\n",
        "    Why Are They Important?\n",
        "    \n",
        "    Because they help you:\n",
        "    \n",
        "    1) Store data properly – You choose the best way to keep the data depending on what you want to do with it.\n",
        "    \n",
        "    2) Work faster – The right data structure can make your program run much quicker.\n",
        "    \n",
        "    3) Solve real-life problems – From apps like Instagram to search engines like Google, they all use data structures behind the scenes.\n",
        "\n",
        "    In Short:\n",
        "    \n",
        "    Data Structures = Smart ways to organize data so that computers can do things faster and better.\n",
        "\n",
        "\n",
        "2.  Explain the difference between mutable and immutable data types with examples.\n",
        "\n",
        "\n",
        "    -1) What is Mutability?\n",
        "    \n",
        "    In Python, mutability means whether you can change the value of an object after it's created.\n",
        "    \n",
        "    2) Mutable Data Types\n",
        "    \n",
        "    Mutable data types can be changed after they are created. You can add, remove, or change elements without creating a new object.\n",
        "    \n",
        "    Examples:\n",
        "    \n",
        "    List\n",
        "    \n",
        "    Dictionary\n",
        "    \n",
        "    Set\n",
        "    \n",
        "    Code Example:\n",
        "    \n",
        "    my_list = [1, 2, 3]\n",
        "    \n",
        "    my_list[0] = 10\n",
        "    \n",
        "    print(my_list)  # Output: [10, 2, 3]\n",
        "    \n",
        "    Here, the list my_list was changed by updating the first element.\n",
        "    \n",
        "    3) Immutable Data Types\n",
        "    \n",
        "    Immutable data types cannot be changed after they are created. If you try to change them, a new object is created instead.\n",
        "    \n",
        "    Examples:\n",
        "    \n",
        "    Integer\n",
        "    \n",
        "    Float\n",
        "    \n",
        "    String\n",
        "    \n",
        "    Tuple\n",
        "    \n",
        "    Code Example:\n",
        "    \n",
        "    my_string = \"hello\"\n",
        "    \n",
        "    my_string = my_string.replace(\"h\", \"y\")\n",
        "    \n",
        "    print(my_string)  # Output: \"yello\"\n",
        "    \n",
        "    Even though it looks like we changed the string, Python actually created a new string \"yello\" and assigned it to my_string.\n",
        "\n",
        "\n",
        "3. What are the main differences between lists and tuples in Python?\n",
        "\n",
        "\n",
        "    -1) Mutability\n",
        "    \n",
        "    List: Mutable → You can change the elements (add, remove, update).\n",
        "    \n",
        "    Tuple: Immutable → You cannot change the elements once it is created.\n",
        "    \n",
        "    Example:\n",
        "    \n",
        "    List\n",
        "    \n",
        "    my_list = [1, 2, 3]\n",
        "    \n",
        "    my_list[0] = 10\n",
        "    \n",
        "    print(my_list)  # Output: [10, 2, 3]\n",
        "    \n",
        "    Tuple\n",
        "    \n",
        "    my_tuple = (1, 2, 3)\n",
        "    \n",
        "    my_tuple[0] = 10  → This will give an error\n",
        "    \n",
        "    2) Syntax\n",
        "    \n",
        "    List: Use square brackets [ ]\n",
        "    \n",
        "    Tuple: Use round brackets ( )\n",
        "    \n",
        "    Example:\n",
        "    \n",
        "    list_example = [1, 2, 3]\n",
        "    \n",
        "    tuple_example = (1, 2, 3)\n",
        "    \n",
        "    3) Performance\n",
        "    \n",
        "    Tuples are faster than lists when it comes to iteration and accessing elements.\n",
        "    \n",
        "    This is because tuples are stored in a more compact way.\n",
        "    \n",
        "    4) Use Case\n",
        "    \n",
        "    Use lists when you need to change or update the data.\n",
        "    \n",
        "    Use tuples when you want the data to stay fixed or protect it from accidental changes.\n",
        "    \n",
        "    5) Functions Available\n",
        "    \n",
        "    Lists have more built-in methods (like append(), remove(), sort()).\n",
        "    \n",
        "    Tuples have fewer methods (because you can’t modify them).\n",
        "    \n",
        "    6) Can be used as Dictionary Keys\n",
        "    \n",
        "    Tuples can be used as keys in dictionaries (if all their elements are also immutable).\n",
        "    \n",
        "    Lists cannot be used as dictionary keys.\n",
        "    \n",
        "    Example:\n",
        "    \n",
        "    Tuple as a key\n",
        "    \n",
        "    my_dict = {(1, 2): \"value\"}\n",
        "    \n",
        "    print(my_dict[(1, 2)])  # Output: \"value\"\n",
        "    \n",
        "    List as a key → Error\n",
        "    \n",
        "    my_dict = {[1, 2]: \"value\"} → This will give an error\n",
        "\n",
        "\n",
        "4. Describe how dictionaries store data.\n",
        "\n",
        "\n",
        "    -1) What is a Dictionary in Python?\n",
        "    \n",
        "    A dictionary is like a real dictionary. You look up a word (called a key) and get its meaning (called a value).\n",
        "    \n",
        "    In Python, dictionaries store data as key-value pairs.\n",
        "    \n",
        "    2) How is the Data Stored?\n",
        "    Python dictionaries use a special system called a hash table to store the data.\n",
        "    \n",
        "    This means:\n",
        "    \n",
        "    Each key is converted into a unique number (called a hash).\n",
        "    \n",
        "    This hash helps Python quickly find where to store or retrieve the value.\n",
        "    \n",
        "    Example:\n",
        "    \n",
        "    student = {\n",
        "    \"name\": \"Rahul\",\n",
        "    \"age\": 21,\n",
        "    \"college\": \"UPES\"\n",
        "    }\n",
        "    \n",
        "    Here:\n",
        "    \n",
        "    \"name\" is a key, \"Rahul\" is the value.\n",
        "    \n",
        "    \"age\" is a key, 21 is the value.\n",
        "    \n",
        "    \"college\" is a key, \"UPES\" is the value.\n",
        "    \n",
        "    3) Key Rules:\n",
        "    \n",
        "    Keys must be unique – You can't have two keys with the same name.\n",
        "    \n",
        "    Keys must be immutable – Like strings, numbers, or tuples. Lists can't be used as keys.\n",
        "    \n",
        "    Values can be anything – Strings, numbers, lists, even other dictionaries.\n",
        "    \n",
        "    4) Accessing Data\n",
        "    \n",
        "    You can get the value by using the key:\n",
        "    \n",
        "    print(student[\"name\"])  # Output: Rahul\n",
        "    \n",
        "    5) Behind the Scenes (How it works internally)\n",
        "    \n",
        "    Python runs a hash function on the key.\n",
        "    \n",
        "    This hash tells Python where to store the value in memory.\n",
        "    \n",
        "    When you access a key, Python quickly goes to that memory location and gets the value.\n",
        "    \n",
        "    This makes dictionaries very fast for lookups.\n",
        "\n",
        "\n",
        "5. Why might you use a set instead of a list in Python?\n",
        "\n",
        "\n",
        "    -Why might you use a set instead of a list in Python?\n",
        "    \n",
        "    Because sets and lists are made for different purposes. Here's when and why you'd choose a set over a list:\n",
        "    \n",
        "    1) To Remove Duplicates Automatically\n",
        "    \n",
        "    A set only stores unique items.\n",
        "    \n",
        "    If you add the same item more than once, it keeps just one copy.\n",
        "    \n",
        "    Example:\n",
        "    \n",
        "    my_list = [1, 2, 2, 3, 3, 3]\n",
        "    \n",
        "    my_set = set(my_list)\n",
        "    \n",
        "    print(my_set)  # Output: {1, 2, 3}\n",
        "    \n",
        "    So, if you only care about unique values, use a set.\n",
        "    \n",
        "    2) For Fast Membership Testing\n",
        "    \n",
        "    Checking if something exists in a set is much faster than in a list, especially when the data is large.\n",
        "    \n",
        "    Example:\n",
        "    \n",
        "    my_list = [1, 2, 3, 4, 5]\n",
        "    \n",
        "    print(3 in my_list)  # Slower\n",
        "    \n",
        "    my_set = {1, 2, 3, 4, 5}\n",
        "    \n",
        "    print(3 in my_set)   # Faster\n",
        "    \n",
        "    So, if you need to check if something exists often, use a set.\n",
        "    \n",
        "    3) To Perform Set Operations\n",
        "    \n",
        "    Sets let you easily do things like:\n",
        "    \n",
        "    Union (combine sets)\n",
        "    \n",
        "    Intersection (common elements)\n",
        "    \n",
        "    Difference (what's in one but not in the other)\n",
        "    \n",
        "    Example:\n",
        "    \n",
        "    a = {1, 2, 3}\n",
        "    \n",
        "    b = {3, 4, 5}\n",
        "    \n",
        "    print(a & b)  # Output: {3} (Intersection)\n",
        "    \n",
        "    You can't do this directly with lists.\n",
        "    \n",
        "    4) When Order Doesn't Matter\n",
        "    \n",
        "    Sets are unordered → They don't remember the order of elements.\n",
        "    \n",
        "    Lists are ordered → They keep elements in the same order you added them.\n",
        "    \n",
        "    So, if you don't care about the order, a set is fine.\n",
        "\n",
        "\n",
        "6. What is a string in Python, and how is it different from a list?\n",
        "\n",
        "\n",
        "    -What is a String in Python?\n",
        "    \n",
        "    A string in Python is a sequence of characters—like letters, numbers, symbols, or even spaces—all inside quotes.\n",
        "    \n",
        "    Example:\n",
        "    \n",
        "    name = \"Harsh\"\n",
        "    \n",
        "    message = 'Hello, how are you?'\n",
        "    \n",
        "    So basically, a string is just text in Python.\n",
        "    \n",
        "    How is a String different from a List?\n",
        "    \n",
        "    Let's compare them one by one in simple terms:\n",
        "    \n",
        "    1) Type of Elements\n",
        "    \n",
        "    String: Only contains characters (letters, numbers, symbols).\n",
        "    \n",
        "    List: Can contain anything—numbers, strings, lists, or even a mix of different types.\n",
        "    \n",
        "    Example:\n",
        "    \n",
        "    string_example = \"hello\"\n",
        "    \n",
        "    list_example = [1, \"hello\", 3.5]\n",
        "    \n",
        "    2) Mutability\n",
        "    \n",
        "    String: Immutable → You cannot change it after it's created.\n",
        "    \n",
        "    List: Mutable → You can change elements in it.\n",
        "    \n",
        "    Example:\n",
        "    \n",
        "    String - This will cause an error\n",
        "    \n",
        "    text = \"hello\"\n",
        "    \n",
        "    text[0] = \"H\" → Not allowed\n",
        "    \n",
        "    List - This works\n",
        "    \n",
        "    items = [\"h\", \"e\", \"l\", \"l\", \"o\"]\n",
        "    \n",
        "    items[0] = \"H\"\n",
        "    \n",
        "    print(items)  # Output: ['H', 'e', 'l', 'l', 'o']\n",
        "    \n",
        "    3) Use Case\n",
        "    \n",
        "    Use a string when dealing with plain text (names, messages, file paths).\n",
        "    \n",
        "    Use a list when dealing with collections of data that may change (like a shopping list or scores).\n",
        "    \n",
        "    4) How You Access Elements\n",
        "    \n",
        "    Both support indexing (using numbers to get elements).\n",
        "    \n",
        "    Example:\n",
        "    \n",
        "    text = \"hello\"\n",
        "    \n",
        "    print(text[1])  # Output: 'e'\n",
        "    \n",
        "    items = [1, 2, 3]\n",
        "    \n",
        "    print(items[1])  # Output: 2\n",
        "\n",
        "\n",
        "7. How do tuples ensure data integrity in Python?\n",
        "\n",
        "\n",
        "    -What is Data Integrity?\n",
        "    \n",
        "    Data integrity means keeping data safe from unwanted or accidental changes. It's about making sure the data stays correct and consistent.\n",
        "    \n",
        "    How Do Tuples Ensure Data Integrity in Python?\n",
        "    \n",
        "    Tuples help ensure data integrity because they are immutable. That means:\n",
        "    \n",
        "    Once a tuple is created, you cannot change it.\n",
        "    \n",
        "    You cannot add, remove, or update its elements.\n",
        "    \n",
        "    This protects the data from being modified by mistake.\n",
        "    \n",
        "    Why is this important?\n",
        "    \n",
        "    Let's take an example:\n",
        "    \n",
        "    Example:\n",
        "    \n",
        "    coordinates = (28.7041, 77.1025)  # Latitude and longitude of Delhi\n",
        "    \n",
        "    If this was stored as a list, someone might accidentally change the values:\n",
        "    \n",
        "    coordinates[0] = 90.0000  # Not Delhi anymore!\n",
        "    \n",
        "    But with a tuple, this change is not allowed:\n",
        "    \n",
        "    coordinates = (28.7041, 77.1025)\n",
        "    \n",
        "    coordinates[0] = 90.0000  # Error! Tuple is immutable\n",
        "    \n",
        "    This prevents accidental data corruption.\n",
        "    \n",
        "    Real-Life Situations Where This Helps:\n",
        "    \n",
        "    1) Storing constant values like dates, coordinates, settings.\n",
        "    \n",
        "    2) Using as keys in dictionaries (only immutable types can be keys).\n",
        "    \n",
        "    3) Passing fixed data between functions so it's not accidentally changed.\n",
        "\n",
        "\n",
        "8.  What is a hash table, and how does it relate to dictionaries in Python?\n",
        "\n",
        "\n",
        "    -What is a Hash Table?\n",
        "    \n",
        "    A hash table is a special data structure that stores data in a way that makes it very fast to find, add, or delete values.\n",
        "    \n",
        "    You can think of it like a locker room:\n",
        "    \n",
        "    Each locker has a number (called an index).\n",
        "\n",
        "    You put a value in a specific locker using a key (like a name tag).\n",
        "\n",
        "    The system uses a hash function to decide which locker to use for     each key.\n",
        "\n",
        "    How Does This Work?\n",
        "    You give a key (e.g., \"name\").\n",
        "\n",
        "    The hash function turns it into a number (a hash).\n",
        "\n",
        "    That number points to a spot in memory where the value is stored.\n",
        "\n",
        "    How Does It Relate to Dictionaries in Python?\n",
        "    Python dictionaries are built using a hash table.\n",
        "\n",
        "    So when you do something like this:\n",
        "\n",
        "\n",
        "    student = {\"name\": \"Rahul\", \"age\": 21}\n",
        "    Here's what happens behind the scenes:\n",
        "\n",
        "    \"name\" and \"age\" are keys.\n",
        "\n",
        "    Python uses a hash function to turn these keys into numbers.\n",
        "\n",
        "    These numbers point to where \"Rahul\" and 21 are stored in memory.\n",
        "\n",
        "    Later, when you ask for student[\"name\"], Python quickly finds\n",
        "    the     value using the hash table.\n",
        "\n",
        "    This is why dictionary lookups are very fast in Python.\n",
        "\n",
        "\n",
        "9. Can lists contain different data types in Python?\n",
        "\n",
        "\n",
        "    -Yes, lists in Python can contain different data types.\n",
        "\n",
        "    This is one of the powerful features of Python lists—they are     flexible and can store multiple types of values in the same list.\n",
        "\n",
        "    Example:\n",
        "\n",
        "    mixed_list = [10, \"hello\", 3.14, True, [1, 2, 3]]\n",
        "    \n",
        "    print(mixed_list)\n",
        "    \n",
        "    Output:\n",
        "\n",
        "    [10, 'hello', 3.14, True, [1, 2, 3]]\n",
        "    \n",
        "    In this list:\n",
        "\n",
        "    1) 10 is an integer\n",
        "\n",
        "    2) \"hello\" is a string\n",
        "\n",
        "    3) 3.14 is a float\n",
        "\n",
        "    4) True is a boolean\n",
        "\n",
        "    5) [1, 2, 3] is another list\n",
        "\n",
        "\n",
        "10. Explain why strings are immutable in Python.\n",
        "\n",
        "\n",
        "    -1) What Does Immutable Mean?\n",
        "    Immutable means something cannot be changed after it is created.\n",
        "\n",
        "    So, when you create a string in Python, you can't modify it directly—you can't change, add, or remove characters in that string.\n",
        "\n",
        "    2) Example:\n",
        "\n",
        "    text = \"hello\"\n",
        "\n",
        "    text[0] = \"H\"  # This will give an error\n",
        "\n",
        "    Python will say: “strings don't support item assignment”, because they are immutable.\n",
        "\n",
        "    3) Why Did Python Make Strings Immutable?\n",
        "\n",
        "    Reason 1: Performance and Memory Efficiency\n",
        "\n",
        "    Strings are used a lot in programs.\n",
        "\n",
        "    Making them immutable helps Python reuse memory (internally it stores only one copy of identical strings).\n",
        "\n",
        "    This makes the program faster and uses less memory.\n",
        "\n",
        "    Reason 2: Security and Safety\n",
        "    If strings could change, they could break code accidentally.\n",
        "\n",
        "    For example, if one part of your program is using a string like a password, and another part changes it by mistake, it would create bugs.\n",
        "\n",
        "    Immutability protects the data from being changed by accident.\n",
        "\n",
        "    Reason 3: Hashing and Dictionary Keys\n",
        "    Strings are often used as keys in dictionaries.\n",
        "\n",
        "    Dictionary keys need to be constant and unchangeable, so they can be located quickly using hash values.\n",
        "\n",
        "    If strings were mutable, their hash value would change, and dictionaries would break.\n",
        "\n",
        "    4) But Can You \"Change\" a String?\n",
        "    Not directly—but you can create a new string from the old one.\n",
        "\n",
        "    Example:\n",
        "\n",
        "    text = \"hello\"\n",
        "\n",
        "    new_text = text.replace(\"h\", \"H\")\n",
        "\n",
        "    print(new_text)  # Output: \"Hello\"\n",
        "\n",
        "    The original string text is still \"hello\", but new_text is a new string \"Hello\".\n",
        "\n",
        "\n",
        "11. What advantages do dictionaries offer over lists for certain tasks?\n",
        "\n",
        "\n",
        "    -What Are Dictionaries and Lists?\n",
        "    \n",
        "    A list is an ordered collection of items where each item is accessed by its position (index).\n",
        "\n",
        "    A dictionary is an unordered collection of items where each item is accessed by a key (like a name tag).\n",
        "\n",
        "    Advantages of Dictionaries Over Lists:\n",
        "\n",
        "    1) Faster Lookups\n",
        "\n",
        "    In a list, to find a value, Python may have to search through every item.\n",
        "\n",
        "    In a dictionary, you can instantly get the value using a key.\n",
        "\n",
        "    Example:\n",
        "\n",
        "    Using list\n",
        "\n",
        "    --students = [\"Rahul\", \"Anjali\", \"Aman\"]\n",
        "\n",
        "    print(students[1])  # You need to know the position\n",
        "\n",
        "    --Using dictionary\n",
        "\n",
        "    students = {\"roll1\": \"Rahul\", \"roll2\": \"Anjali\", \"roll3\": \"Aman\"}\n",
        "\n",
        "    print(students[\"roll2\"])  # Directly access with key\n",
        "\n",
        "    2) More Meaningful Access\n",
        "\n",
        "    With lists, you use numbers to access items.\n",
        "\n",
        "    With dictionaries, you use meaningful keys, which makes your code easier to understand.\n",
        "\n",
        "    Example:\n",
        "\n",
        "    --List\n",
        "\n",
        "    person = [\"Alice\", 25, \"New York\"]\n",
        "\n",
        "    --Not clear what each item means\n",
        "\n",
        "    --Dictionary\n",
        "\n",
        "    person = {\"name\": \"Alice\", \"age\": 25, \"city\": \"New York\"}\n",
        "\n",
        "    --Much clearer and readable\n",
        "\n",
        "    3) No Need to Remember Position\n",
        "\n",
        "    With a dictionary, you don't need to remember what's at index 0, 1, or 2.\n",
        "\n",
        "    You just use the key (like \"name\" or \"age\"), and Python gives you the value.\n",
        "\n",
        "    4) Useful for Structured Data\n",
        "\n",
        "    When you have data with labels (like student info, product details, etc.), dictionaries are perfect.\n",
        "\n",
        "    Lists are better for simple, ordered data (like scores or names).\n",
        "\n",
        "    5) Easier Updates\n",
        "\n",
        "    You can easily update, add, or delete values in a dictionary using keys.\n",
        "\n",
        "    Example:\n",
        "\n",
        "    person = {\"name\": \"Alice\", \"age\": 25}\n",
        "\n",
        "    person[\"age\"] = 26  # Easy to update\n",
        "\n",
        "\n",
        "12. Describe a scenario where using a tuple would be preferable over a list?\n",
        "\n",
        "\n",
        "    -Scenario: Storing GPS Coordinates (Latitude, Longitude)\n",
        "    Imagine you're building a location tracking app, and you need to store the GPS coordinates of different cities.\n",
        "\n",
        "    Each coordinate is a pair of two values: latitude and longitude.\n",
        "\n",
        "    Example:\n",
        "\n",
        "    delhi_coordinates = (28.6139, 77.2090)\n",
        "\n",
        "    Why Use a Tuple Instead of a List Here?\n",
        "\n",
        "    1) The data should not change\n",
        "\n",
        "    Coordinates are fixed for a location.\n",
        "\n",
        "    You don't want anyone accidentally changing the values.\n",
        "\n",
        "    Tuples are immutable, so they protect the data from being modified.\n",
        "\n",
        "    2) You want to ensure consistency\n",
        "\n",
        "    A tuple with exactly 2 items (latitude and longitude) makes it clear that it's a fixed structure.\n",
        "\n",
        "    Lists can grow or shrink, but tuples stay the same size—this helps maintain data structure integrity.\n",
        "\n",
        "    3) Tuples are slightly faster and use less memory\n",
        "\n",
        "    If you have to store thousands of locations, tuples are more efficient than lists in terms of speed and memory usage.\n",
        "\n",
        "\n",
        "13. How do sets handle duplicate values in Python?\n",
        "\n",
        "\n",
        "    -How Do Sets Handle Duplicate Values in Python?\n",
        "\n",
        "    In Python, sets automatically remove duplicates.\n",
        "    \n",
        "    That means: A set only stores unique values.\n",
        "\n",
        "    Example:\n",
        "\n",
        "    my_set = {1, 2, 3, 2, 4, 3}\n",
        "\n",
        "    print(my_set)\n",
        "\n",
        "    Output:\n",
        "\n",
        "    {1, 2, 3, 4}\n",
        "\n",
        "    Even though you added 2 and 3 more than once, the set kept only one copy of each.\n",
        "\n",
        "    Why Does This Happen?\n",
        "\n",
        "    Sets are unordered collections.\n",
        "\n",
        "    They are designed to store unique elements only.\n",
        "\n",
        "    Behind the scenes, Python uses a hash table for sets, which automatically checks for duplicates and ignores repeated values.\n",
        "\n",
        "    When Is This Useful?\n",
        "\n",
        "    1)Removing duplicates from a list:\n",
        "\n",
        "    my_list = [1, 2, 2, 3, 4, 4]\n",
        "\n",
        "    unique_values = set(my_list)\n",
        "\n",
        "    print(unique_values)  # Output: {1, 2, 3, 4}\n",
        "\n",
        "    2)Checking if something exists without worrying about duplicates:\n",
        "\n",
        "    if 2 in my_set:\n",
        "    print(\"Yes, it's there!\")  # No duplicates to slow it down\n",
        "\n",
        "\n",
        "14.  How does the “in” keyword work differently for lists and dictionaries?\n",
        "\n",
        "\n",
        "    -1) Using in with a List\n",
        "    \n",
        "    When you use in with a list, it checks whether a value exists in the list.\n",
        "\n",
        "    Example:\n",
        "\n",
        "    my_list = [10, 20, 30, 40]\n",
        "\n",
        "    print(20 in my_list)  # Output: True\n",
        "\n",
        "    print(50 in my_list)  # Output: False\n",
        "\n",
        "    It looks through the list and checks if 20 is one of the values.\n",
        "\n",
        "    It goes item by item until it finds the match or reaches the end.\n",
        "\n",
        "    2) Using in with a Dictionary\n",
        "\n",
        "    When you use in with a dictionary, it checks whether a key exists, not the value.\n",
        "\n",
        "    Example:\n",
        "\n",
        "    my_dict = {\"name\": \"Alice\", \"age\": 25}\n",
        "\n",
        "    print(\"name\" in my_dict)   # Output: True (checks keys)\n",
        "\n",
        "    print(\"Alice\" in my_dict)  # Output: False (value, not key)\n",
        "\n",
        "    So if you want to check for values in a dictionary, you need to use:\n",
        "\n",
        "    print(\"Alice\" in my_dict.values())  # Output: True\n",
        "\n",
        "\n",
        "15. Can you modify the elements of a tuple? Explain why or why not.\n",
        "\n",
        "\n",
        "    -No, you cannot modify the elements of a tuple in Python.\n",
        "    \n",
        "    Why?\n",
        "\n",
        "    Because tuples are immutable.\n",
        "\n",
        "    That means: once a tuple is created, you cannot change, add, or remove any of its elements.\n",
        "\n",
        "    Example:\n",
        "    \n",
        "    my_tuple = (1, 2, 3)\n",
        "\n",
        "    my_tuple[0] = 10  # This will cause an error\n",
        "\n",
        "    Python will give an error like:\n",
        "\n",
        "    TypeError: 'tuple' object does not support item assignment\n",
        "\n",
        "    Why Are Tuples Immutable?\n",
        "\n",
        "    1) To protect data\n",
        "\n",
        "    If you want to store data that should not change (like dates, coordinates, settings), tuples are safer.\n",
        "\n",
        "    2) For performance\n",
        "\n",
        "    Tuples use less memory and are faster to access than lists, because they don't have to support changes.\n",
        "\n",
        "    3) To be used as dictionary keys\n",
        "\n",
        "    Only immutable types can be used as keys in dictionaries. Since tuples can't change, they work well as keys.\n",
        "\n",
        "    But What If the Tuple Has a List Inside?\n",
        "\n",
        "    If a tuple contains a mutable object like a list, that inner object can be changed, even though the tuple itself is immutable.\n",
        "\n",
        "    Example:\n",
        "\n",
        "    my_tuple = (1, 2, [3, 4])\n",
        "\n",
        "    my_tuple[2][0] = 99\n",
        "\n",
        "    print(my_tuple)  # Output: (1, 2, [99, 4])\n",
        "\n",
        "    The tuple itself hasn't changed, but the list inside was modified.\n",
        "\n",
        "\n",
        "16. What is a nested dictionary, and give an example of its use case?\n",
        "\n",
        "\n",
        "    -What is a Nested Dictionary?\n",
        "    \n",
        "    A nested dictionary is simply a dictionary inside another dictionary.\n",
        "    \n",
        "    In other words, each value in the outer dictionary can itself be another dictionary.\n",
        "    \n",
        "    This allows you to store complex, structured data in a clean and organized way.\n",
        "    \n",
        "    Example of a Nested Dictionary:\n",
        "    \n",
        "    Let's say you're storing information about students and their marks:\n",
        "\n",
        "    students = {\n",
        "\n",
        "    \"Rahul\": {\n",
        "\n",
        "    \"age\": 20,\n",
        "\n",
        "    \"marks\": {\"Math\": 90, \"Science\": 85}\n",
        "\n",
        "    },\n",
        "\n",
        "    \"Anjali\": {\n",
        "\n",
        "    \"age\": 21,\n",
        "\n",
        "    \"marks\": {\"Math\": 95, \"Science\": 88}\n",
        "    \n",
        "    }\n",
        "    }\n",
        "\n",
        "    How to Access Data in a Nested Dictionary:\n",
        "\n",
        "    --Get Anjali's Science marks\n",
        "\n",
        "    print(students[\"Anjali\"][\"marks\"][\"Science\"])  # Output: 88\n",
        "\n",
        "    You're accessing:\n",
        "\n",
        "    1)\"Anjali\" in the outer dictionary\n",
        "\n",
        "    2)\"marks\" in Anjali's dictionary\n",
        "\n",
        "    3)\"Science\" in the marks dictionary\n",
        "\n",
        "    Use Case of a Nested Dictionary:\n",
        "\n",
        "    Nested dictionaries are useful when you want to store related data in layers.\n",
        "\n",
        "    Real-life Examples:\n",
        "\n",
        "    1) Student Database\n",
        "\n",
        "    Store each student's name, age, and marks as shown above.\n",
        "\n",
        "    2) E-commerce Order System\n",
        "\n",
        "    Store orders by customer ID with details like items, prices, and delivery status.\n",
        "\n",
        "\n",
        "    orders = {\n",
        "    1001: {\"item\": \"Laptop\", \"price\": 55000, \"status\": \"Shipped\"},\n",
        "    1002: {\"item\": \"Mobile\", \"price\": 20000, \"status\": \"Pending\"}\n",
        "    }\n",
        "\n",
        "    3) Employee Records\n",
        "\n",
        "    Company stores each employee's details like name, department, and salary.\n",
        "\n",
        "\n",
        "17. Describe the time complexity of accessing elements in a dictionary.\n",
        "\n",
        "\n",
        "    -Time Complexity of Accessing Elements in a Dictionary (Python)\n",
        "    \n",
        "    In Python, accessing elements in a dictionary is very fast—that's one of the main reasons dictionaries are so useful.\n",
        "\n",
        "    Time Complexity: O(1) (Constant Time)\n",
        "\n",
        "    This means:\n",
        "\n",
        "    No matter how many elements are in the dictionary,\n",
        "\n",
        "    Accessing a value by its key takes the same amount of time.\n",
        "\n",
        "    Example:\n",
        "\n",
        "    my_dict = {\"a\": 1, \"b\": 2, \"c\": 3}\n",
        "\n",
        "    print(my_dict[\"b\"])  # Accessing takes O(1) time\n",
        "\n",
        "    How Is It So Fast?\n",
        "\n",
        "    Python dictionaries use a hash table under the hood.\n",
        "\n",
        "    Here's what happens:\n",
        "\n",
        "    1) You provide a key.\n",
        "\n",
        "    2) Python calculates the hash of that key.\n",
        "\n",
        "    3) The hash points directly to the memory location of the value.\n",
        "\n",
        "    So instead of checking each item one by one (like a list), it jumps directly to the value.\n",
        "\n",
        "\n",
        "18.  In what situations are lists preferred over dictionaries?\n",
        "\n",
        "\n",
        "    -When are Lists Preferred Over Dictionaries?\n",
        "    \n",
        "    You should use a list when:\n",
        "\n",
        "    1) You Only Need Ordered Data\n",
        "\n",
        "    Lists maintain the order of items.\n",
        "\n",
        "    If the order matters (like to-do lists, recent activities, rankings), a list is the better choice.\n",
        "\n",
        "    Example:\n",
        "\n",
        "    shopping_list = [\"milk\", \"bread\", \"eggs\"]\n",
        "\n",
        "    Here, the order tells what to buy first.\n",
        "\n",
        "    2) You Don't Need Key-Value Pairs\n",
        "\n",
        "    If your data is just a collection of items (not labeled with keys), a list is simpler.\n",
        "\n",
        "    Lists are perfect for storing values without needing a name for each.\n",
        "\n",
        "    3) You Want to Store Duplicate Values\n",
        "\n",
        "    Lists allow duplicates, while dictionaries do not allow duplicate keys.\n",
        "\n",
        "    Example:\n",
        "\n",
        "    votes = [\"Alice\", \"Bob\", \"Alice\", \"Alice\", \"Bob\"]\n",
        "\n",
        "    You can count repeated names easily with lists.\n",
        "\n",
        "    4) You Need to Access Data by Position\n",
        "\n",
        "    Lists let you access items using their index (0, 1, 2, …).\n",
        "\n",
        "    This is useful when position matters or when looping through items.\n",
        "\n",
        "    Example:\n",
        "\n",
        "    marks = [90, 80, 70]\n",
        "\n",
        "    print(marks[1])  # Output: 80\n",
        "\n",
        "    5) You're Dealing with Simple Data Collections\n",
        "\n",
        "    When you just need to group related items together, a list is lightweight and simple.\n",
        "\n",
        "    Lists are easier to manage for small, linear data.\n",
        "\n",
        "    6) You're Performing Sequential Operations\n",
        "\n",
        "    Lists are great when you need to sort, reverse, or perform operations in order.\n",
        "\n",
        "    Example:\n",
        "\n",
        "    numbers = [5, 2, 9]\n",
        "\n",
        "    numbers.sort()\n",
        "\n",
        "    print(numbers)  # Output: [2, 5, 9]\n",
        "\n",
        "\n",
        "19. Why are dictionaries considered unordered, and how does that affect data retrieval?\n",
        "\n",
        "\n",
        "    -1) Why Are Dictionaries Considered Unordered?\n",
        "    \n",
        "    In older versions of Python (before version 3.7):\n",
        "\n",
        "    a) Dictionaries did not keep the order in which you added items.\n",
        "\n",
        "    b) This means if you added 5 items, and then printed the dictionary, they might show up in a completely different order.\n",
        "\n",
        "    This happened because dictionaries were built for fast access, not for order.\n",
        "    Internally, Python uses hash tables to store key-value pairs, and these are focused on speed, not order.\n",
        "\n",
        "    2) What About Now?\n",
        "\n",
        "    Since Python 3.7, dictionaries do maintain insertion order by default.\n",
        "\n",
        "    So, if you write:\n",
        "\n",
        "    my_dict = {\"a\": 1, \"b\": 2, \"c\": 3}\n",
        "\n",
        "    print(my_dict)\n",
        "\n",
        "    Output will be:\n",
        "    {    'a': 1, 'b': 2, 'c': 3}\n",
        "\n",
        "    But even now, Python still calls dictionaries \"unordered\" because:\n",
        "\n",
        "    a) The main focus is on key-based access, not the order.\n",
        "\n",
        "    b) You shouldn't rely on the order unless you're using Python 3.7 or later.\n",
        "\n",
        "    3) How Does This Affect Data Retrieval?\n",
        "\n",
        "    Case A: Accessing values by key\n",
        "\n",
        "    Works perfectly and fast, even if the order changes.\n",
        "\n",
        "    my_dict = {\"name\": \"Alice\", \"age\": 25}\n",
        "\n",
        "    print(my_dict[\"age\"])  # Output: 25\n",
        "\n",
        "    Case B: Accessing values by order/position\n",
        "     \n",
        "    Not allowed in dictionaries. You can't do my_dict[0] like you do with lists.\n",
        "\n",
        "    If order matters a lot (like first item, last item), then use a list or OrderedDict (for older Python versions).\n",
        "\n",
        "\n",
        "20.  Explain the difference between a list and a dictionary in terms of data retrieval.\n",
        "\n",
        "\n",
        "    -Main Difference:\n",
        "    \n",
        "    Lists use indexes, while dictionaries use keys to retrieve data.\n",
        "\n",
        "    1) List – Retrieval by Index (Position)\n",
        "\n",
        "    *In a list, each item has a position, starting from index 0.\n",
        "\n",
        "    *To get a value, you must know its position.\n",
        "\n",
        "    Example:\n",
        "\n",
        "    my_list = [\"apple\", \"banana\", \"cherry\"]\n",
        "\n",
        "    print(my_list[1])  # Output: \"banana\"\n",
        "\n",
        "    *You're saying: “Give me the item at position 1.”\n",
        "\n",
        "    2) Dictionary – Retrieval by Key (Name)\n",
        "\n",
        "    *In a dictionary, each item has a key (like a label or name).\n",
        "\n",
        "    *To get a value, you must know its key, not its position.\n",
        "\n",
        "    Example:\n",
        "\n",
        "    my_dict = {\"fruit1\": \"apple\", \"fruit2\": \"banana\", \"fruit3\": \"cherry\"}\n",
        "\n",
        "    print(my_dict[\"fruit2\"])  # Output: \"banana\"\n",
        "\n",
        "    *You're saying: “Give me the value with key 'fruit2'.”\n",
        "\n",
        "    3) Speed of Retrieval\n",
        "\n",
        "    *List: Slower for searching a value (O(n)) — must look through items one by one.\n",
        "\n",
        "    *Dictionary: Very fast for key lookup (O(1)) — jumps directly to the value using a hash.\n",
        "\n",
        "\n",
        "\n",
        "\n",
        "\n",
        "\n",
        "\n",
        "\n",
        "\n",
        "\n",
        "\n",
        "\n",
        "\n",
        "\n",
        "\n",
        "\n"
      ],
      "metadata": {
        "id": "yUcS0LnlHyjz"
      }
    },
    {
      "cell_type": "markdown",
      "source": [
        "#Practical Questions"
      ],
      "metadata": {
        "id": "RnVgaN3Alz1O"
      }
    },
    {
      "cell_type": "code",
      "execution_count": 1,
      "metadata": {
        "id": "vGwuQz8QHQNO",
        "colab": {
          "base_uri": "https://localhost:8080/"
        },
        "outputId": "2d89fe29-ab71-466f-cb67-49da58efb6fc"
      },
      "outputs": [
        {
          "output_type": "stream",
          "name": "stdout",
          "text": [
            "Enter your name: Harsh\n",
            "Harsh\n"
          ]
        }
      ],
      "source": [
        "# 1. Write a code to create a string with your name and print it.\n",
        "\n",
        "name= input(\"Enter your name: \")\n",
        "print(name)"
      ]
    },
    {
      "cell_type": "code",
      "source": [
        "# 2.  Write a code to find the length of the string \"Hello World\".\n",
        "\n",
        "a= \"Hello World\"\n",
        "print(len(a))"
      ],
      "metadata": {
        "colab": {
          "base_uri": "https://localhost:8080/"
        },
        "id": "Mj_1qi8DmdtF",
        "outputId": "27a89d17-7407-42ec-ca3a-8f1f3a2e5423"
      },
      "execution_count": 2,
      "outputs": [
        {
          "output_type": "stream",
          "name": "stdout",
          "text": [
            "11\n"
          ]
        }
      ]
    },
    {
      "cell_type": "code",
      "source": [
        "# 3. Write a code to slice the first 3 characters from the string \"Python Programming\".\n",
        "\n",
        "a= \"Python Programming\"\n",
        "b=a[:3]\n",
        "print(b)"
      ],
      "metadata": {
        "colab": {
          "base_uri": "https://localhost:8080/"
        },
        "id": "xQgyzMnum0zU",
        "outputId": "8ac0b08d-e231-489c-f550-14bc9ba2c7a1"
      },
      "execution_count": 3,
      "outputs": [
        {
          "output_type": "stream",
          "name": "stdout",
          "text": [
            "Pyt\n"
          ]
        }
      ]
    },
    {
      "cell_type": "code",
      "source": [
        "# 4. Write a code to convert the string \"hello\" to uppercase.\n",
        "\n",
        "a=\"hello\"\n",
        "\n",
        "print(a.upper())"
      ],
      "metadata": {
        "colab": {
          "base_uri": "https://localhost:8080/"
        },
        "id": "MP4jL8c6nbXG",
        "outputId": "c12340fe-af2c-48de-89f1-25ccd4a80310"
      },
      "execution_count": 5,
      "outputs": [
        {
          "output_type": "stream",
          "name": "stdout",
          "text": [
            "HELLO\n"
          ]
        }
      ]
    },
    {
      "cell_type": "code",
      "source": [
        "# 5. Write a code to replace the word \"apple\" with \"orange\" in the string \"I like apple\".\n",
        "\n",
        "a= \"I like apple\"\n",
        "b= a.replace (\"apple\", \"orange\")\n",
        "print (b)"
      ],
      "metadata": {
        "colab": {
          "base_uri": "https://localhost:8080/"
        },
        "id": "gh9-ZfaOoJ8t",
        "outputId": "c77d7959-0ecd-4922-c324-24ff5f663f97"
      },
      "execution_count": 7,
      "outputs": [
        {
          "output_type": "stream",
          "name": "stdout",
          "text": [
            "I like orange\n"
          ]
        }
      ]
    },
    {
      "cell_type": "code",
      "source": [
        "# 6. Write a code to create a list with numbers 1 to 5 and print it.\n",
        "\n",
        "\n",
        "numbers = [1, 2, 3, 4, 5]\n",
        "print(numbers)\n",
        "\n",
        "\n"
      ],
      "metadata": {
        "colab": {
          "base_uri": "https://localhost:8080/"
        },
        "id": "j1nvdRwIpT6k",
        "outputId": "f749da89-bcbd-4009-93f0-8c665309441a"
      },
      "execution_count": 9,
      "outputs": [
        {
          "output_type": "stream",
          "name": "stdout",
          "text": [
            "[1, 2, 3, 4, 5]\n"
          ]
        }
      ]
    },
    {
      "cell_type": "code",
      "source": [
        "# 7. Write a code to append the number 10 to the list [1, 2, 3, 4].\n",
        "\n",
        "a= [1, 2, 3, 4]\n",
        "a.append(10)\n",
        "print (a)"
      ],
      "metadata": {
        "colab": {
          "base_uri": "https://localhost:8080/"
        },
        "id": "zOF_xGDKqqyn",
        "outputId": "fa71f8b0-d9cc-4373-fd58-f8c13bcebbb6"
      },
      "execution_count": 11,
      "outputs": [
        {
          "output_type": "stream",
          "name": "stdout",
          "text": [
            "[1, 2, 3, 4, 10]\n"
          ]
        }
      ]
    },
    {
      "cell_type": "code",
      "source": [
        "# 8. Write a code to remove the number 3 from the list [1, 2, 3, 4, 5].\n",
        "\n",
        "a= [1, 2, 3, 4, 5]\n",
        "a.remove(3)\n",
        "print(a)"
      ],
      "metadata": {
        "colab": {
          "base_uri": "https://localhost:8080/"
        },
        "id": "rBM_sbbQq_cK",
        "outputId": "47bddc48-33cb-46f8-9454-3677a906ec97"
      },
      "execution_count": 12,
      "outputs": [
        {
          "output_type": "stream",
          "name": "stdout",
          "text": [
            "[1, 2, 4, 5]\n"
          ]
        }
      ]
    },
    {
      "cell_type": "code",
      "source": [
        "# 9. Write a code to access the second element in the list ['a', 'b', 'c', 'd'].\n",
        "\n",
        "a= ['a', 'b', 'c', 'd']\n",
        "print(a[1])"
      ],
      "metadata": {
        "colab": {
          "base_uri": "https://localhost:8080/"
        },
        "id": "Fd0B_dL3x_VR",
        "outputId": "b6123381-1c93-401c-b63f-138d60e49d83"
      },
      "execution_count": 13,
      "outputs": [
        {
          "output_type": "stream",
          "name": "stdout",
          "text": [
            "b\n"
          ]
        }
      ]
    },
    {
      "cell_type": "code",
      "source": [
        "# 10. Write a code to reverse the list [10, 20, 30, 40, 50].\n",
        "\n",
        "a= [10, 20, 30, 40, 50]\n",
        "print(a[::-1])"
      ],
      "metadata": {
        "colab": {
          "base_uri": "https://localhost:8080/"
        },
        "id": "jIaoGLfhyXkQ",
        "outputId": "933df624-b3f1-4c66-a7ae-ce9666971a39"
      },
      "execution_count": 14,
      "outputs": [
        {
          "output_type": "stream",
          "name": "stdout",
          "text": [
            "[50, 40, 30, 20, 10]\n"
          ]
        }
      ]
    },
    {
      "cell_type": "code",
      "source": [
        "# 11. Write a code to create a tuple with the elements 100, 200, 300 and print it.\n",
        "\n",
        "a=(100, 200, 300)\n",
        "print(type(a), a)"
      ],
      "metadata": {
        "colab": {
          "base_uri": "https://localhost:8080/"
        },
        "id": "jXmKFhvJyvCp",
        "outputId": "189433a1-ad03-469c-a291-ac0054baf21d"
      },
      "execution_count": 21,
      "outputs": [
        {
          "output_type": "stream",
          "name": "stdout",
          "text": [
            "<class 'tuple'> (100, 200, 300)\n"
          ]
        }
      ]
    },
    {
      "cell_type": "code",
      "source": [
        "# 12. Write a code to access the second-to-last element of the tuple ('red', 'green', 'blue', 'yellow').\n",
        "\n",
        "colors= ('red', 'green', 'blue', 'yellow')\n",
        "print(colors[-2])"
      ],
      "metadata": {
        "colab": {
          "base_uri": "https://localhost:8080/"
        },
        "id": "fq-4HxlJzFAd",
        "outputId": "cf7bb0b7-3683-4876-c6c7-b13f3cb45ac5"
      },
      "execution_count": 17,
      "outputs": [
        {
          "output_type": "stream",
          "name": "stdout",
          "text": [
            "blue\n"
          ]
        }
      ]
    },
    {
      "cell_type": "code",
      "source": [
        "# 13. Write a code to find the minimum number in the tuple (10, 20, 5, 15).\n",
        "\n",
        "a= (10, 20, 5, 15)\n",
        "print(min(a))"
      ],
      "metadata": {
        "colab": {
          "base_uri": "https://localhost:8080/"
        },
        "id": "BO5uyZM2zsym",
        "outputId": "1648f6de-2906-4e1c-fc5e-8171d447ccf1"
      },
      "execution_count": 20,
      "outputs": [
        {
          "output_type": "stream",
          "name": "stdout",
          "text": [
            "5\n"
          ]
        }
      ]
    },
    {
      "cell_type": "code",
      "source": [
        "# 14. Write a code to find the index of the element \"cat\" in the tuple ('dog', 'cat', 'rabbit').\n",
        "\n",
        "a= ('dog', 'cat', 'rabbit')\n",
        "print(a.index(\"cat\"))"
      ],
      "metadata": {
        "colab": {
          "base_uri": "https://localhost:8080/"
        },
        "id": "nkAW8rgB0MyE",
        "outputId": "79fb464e-d46e-4a91-ec3f-aba3b04367e4"
      },
      "execution_count": 23,
      "outputs": [
        {
          "output_type": "stream",
          "name": "stdout",
          "text": [
            "1\n"
          ]
        }
      ]
    },
    {
      "cell_type": "code",
      "source": [
        "# 15. Write a code to create a tuple containing three different fruits and check if \"kiwi\" is in it.\n",
        "\n",
        "fruits = (\"apple\", \"banana\", \"mango\")\n",
        "\n",
        "if \"kiwi\" in fruits:\n",
        "    print(\"Yes, kiwi is in the tuple.\")\n",
        "else:\n",
        "    print(\"No, kiwi is not in the tuple.\")\n"
      ],
      "metadata": {
        "id": "_xoyoIEs0y53"
      },
      "execution_count": null,
      "outputs": []
    },
    {
      "cell_type": "code",
      "source": [
        "# 16. Write a code to create a set with the elements 'a', 'b', 'c' and print it.\n",
        "\n",
        "s= {'a','b','c'}\n",
        "print(type(s),s)"
      ],
      "metadata": {
        "colab": {
          "base_uri": "https://localhost:8080/"
        },
        "id": "7MdWiQlN1JEX",
        "outputId": "824efa1c-f4c3-4443-b098-7a44cfd5341d"
      },
      "execution_count": 25,
      "outputs": [
        {
          "output_type": "stream",
          "name": "stdout",
          "text": [
            "<class 'set'> {'c', 'b', 'a'}\n"
          ]
        }
      ]
    },
    {
      "cell_type": "code",
      "source": [
        "# 17. Write a code to clear all elements from the set {1, 2, 3, 4, 5}.\n",
        "\n",
        "s={1, 2, 3, 4, 5}\n",
        "s.clear()\n",
        "print(s)"
      ],
      "metadata": {
        "colab": {
          "base_uri": "https://localhost:8080/"
        },
        "id": "Ukl_fCjB1lFU",
        "outputId": "22451717-2e57-4dca-ab81-5fd93bf302fa"
      },
      "execution_count": 28,
      "outputs": [
        {
          "output_type": "stream",
          "name": "stdout",
          "text": [
            "set()\n"
          ]
        }
      ]
    },
    {
      "cell_type": "code",
      "source": [
        "# 18.  Write a code to remove the element 4 from the set {1, 2, 3, 4}.\n",
        "\n",
        "s={1, 2, 3, 4}\n",
        "s.remove(4)\n",
        "print(s)"
      ],
      "metadata": {
        "colab": {
          "base_uri": "https://localhost:8080/"
        },
        "id": "wzBMDIij2H7f",
        "outputId": "3a64ee1d-5a28-410f-c559-3ca5bce445f6"
      },
      "execution_count": 29,
      "outputs": [
        {
          "output_type": "stream",
          "name": "stdout",
          "text": [
            "{1, 2, 3}\n"
          ]
        }
      ]
    },
    {
      "cell_type": "code",
      "source": [
        "# 19.  Write a code to find the union of two sets {1, 2, 3} and {3, 4, 5}.\n",
        "\n",
        "a={1, 2, 3}\n",
        "b= {3, 4, 5}\n",
        "c=a|b\n",
        "print(c)"
      ],
      "metadata": {
        "colab": {
          "base_uri": "https://localhost:8080/"
        },
        "id": "vQeL7lk02Yd-",
        "outputId": "b247a57a-9ba6-42f1-a616-fc3c502a2188"
      },
      "execution_count": 30,
      "outputs": [
        {
          "output_type": "stream",
          "name": "stdout",
          "text": [
            "{1, 2, 3, 4, 5}\n"
          ]
        }
      ]
    },
    {
      "cell_type": "code",
      "source": [
        "# 20. Write a code to find the intersection of two sets {1, 2, 3} and {2, 3, 4}.\n",
        "\n",
        "a={1, 2, 3}\n",
        "b={2, 3, 4}\n",
        "print(a & b)"
      ],
      "metadata": {
        "colab": {
          "base_uri": "https://localhost:8080/"
        },
        "id": "zepnz-_-3CXq",
        "outputId": "5a7de032-2a3d-4f6e-c46f-a3256660ecf2"
      },
      "execution_count": 31,
      "outputs": [
        {
          "output_type": "stream",
          "name": "stdout",
          "text": [
            "{2, 3}\n"
          ]
        }
      ]
    },
    {
      "cell_type": "code",
      "source": [
        "# 21. Write a code to create a dictionary with the keys \"name\", \"age\", and \"city\", and print it.\n",
        "\n",
        "dict= {\"name\": \"Harsh\", \"age\": 23, \"city\": \"Jaipur\"}\n",
        "print(dict)\n",
        "type(dict)"
      ],
      "metadata": {
        "colab": {
          "base_uri": "https://localhost:8080/"
        },
        "id": "JfC8XXrC3dBe",
        "outputId": "8ecf74b0-ebef-4fd0-972f-64a22668d194"
      },
      "execution_count": 33,
      "outputs": [
        {
          "output_type": "stream",
          "name": "stdout",
          "text": [
            "{'name': 'Harsh', 'age': 23, 'city': 'Jaipur'}\n"
          ]
        },
        {
          "output_type": "execute_result",
          "data": {
            "text/plain": [
              "dict"
            ]
          },
          "metadata": {},
          "execution_count": 33
        }
      ]
    },
    {
      "cell_type": "code",
      "source": [
        "# 22. Write a code to add a new key-value pair \"country\": \"USA\" to the dictionary {'name': 'John', 'age': 25}.\n",
        "\n",
        "a={'name': 'John', 'age': 25}\n",
        "a[\"country\"]= \"USA\"\n",
        "print(a)"
      ],
      "metadata": {
        "colab": {
          "base_uri": "https://localhost:8080/"
        },
        "id": "J143QP1s4GW4",
        "outputId": "9acc47ea-8cfb-4a1d-d0e8-c050ec8fd825"
      },
      "execution_count": 34,
      "outputs": [
        {
          "output_type": "execute_result",
          "data": {
            "text/plain": [
              "{'name': 'John', 'age': 25, 'country': 'USA'}"
            ]
          },
          "metadata": {},
          "execution_count": 34
        }
      ]
    },
    {
      "cell_type": "code",
      "source": [
        "# 23. Write a code to access the value associated with the key \"name\" in the dictionary {'name': 'Alice', 'age': 30}.\n",
        "\n",
        "person ={'name': 'Alice', 'age': 30}\n",
        "print(person[\"name\"])"
      ],
      "metadata": {
        "colab": {
          "base_uri": "https://localhost:8080/"
        },
        "id": "o-a-wymF8KNu",
        "outputId": "a0a8b749-a8c8-4308-a8a8-e9c7660f4f39"
      },
      "execution_count": 35,
      "outputs": [
        {
          "output_type": "stream",
          "name": "stdout",
          "text": [
            "Alice\n"
          ]
        }
      ]
    },
    {
      "cell_type": "code",
      "source": [
        "# 24. Write a code to remove the key \"age\" from the dictionary {'name': 'Bob', 'age': 22, 'city': 'New York'}.\n",
        "\n",
        "a= {'name': 'Bob', 'age': 22, 'city': 'New York'}\n",
        "a.pop(\"age\")\n",
        "print(a)"
      ],
      "metadata": {
        "colab": {
          "base_uri": "https://localhost:8080/"
        },
        "id": "FMr5o7NmDsl2",
        "outputId": "34472fa0-e74d-4e8c-9c2e-276672c27321"
      },
      "execution_count": 37,
      "outputs": [
        {
          "output_type": "stream",
          "name": "stdout",
          "text": [
            "{'name': 'Bob', 'city': 'New York'}\n"
          ]
        }
      ]
    },
    {
      "cell_type": "code",
      "source": [
        "# 25. Write a code to check if the key \"city\" exists in the dictionary {'name': 'Alice', 'city': 'Paris'}.\n",
        "\n",
        "person = {'name': 'Alice', 'city': 'Paris'}\n",
        "\n",
        "if \"city\" in person:\n",
        "    print(\"Key 'city' exists in the dictionary.\")\n",
        "else:\n",
        "    print(\"Key 'city' does not exist in the dictionary.\")\n"
      ],
      "metadata": {
        "colab": {
          "base_uri": "https://localhost:8080/"
        },
        "id": "D3UxgPZeEaC0",
        "outputId": "d4ea03ea-0fed-41b4-a691-c27994cfbcd0"
      },
      "execution_count": 38,
      "outputs": [
        {
          "output_type": "stream",
          "name": "stdout",
          "text": [
            "Key 'city' exists in the dictionary.\n"
          ]
        }
      ]
    },
    {
      "cell_type": "code",
      "source": [
        "# 26. Write a code to create a list, a tuple, and a dictionary, and print them all.\n",
        "\n",
        "# Create a list\n",
        "my_list = [1, 2, 3, 4, 5]\n",
        "\n",
        "# Create a tuple\n",
        "my_tuple = ('apple', 'banana', 'cherry')\n",
        "\n",
        "# Create a dictionary\n",
        "my_dict = {'name': 'Alice', 'age': 30, 'city': 'Paris'}\n",
        "\n",
        "# Print all of them\n",
        "print(\"List:\", my_list)\n",
        "print(\"Tuple:\", my_tuple)\n",
        "print(\"Dictionary:\", my_dict)\n"
      ],
      "metadata": {
        "id": "76dylbWxFL4r"
      },
      "execution_count": null,
      "outputs": []
    },
    {
      "cell_type": "code",
      "source": [
        "# 27. Write a code to create a list of 5 random numbers between 1 and 100, sort it in ascending order, and print the result.(replaced)\n",
        "\n",
        "import random\n",
        "\n",
        "# Create a list of 5 random numbers between 1 and 100\n",
        "random_numbers = random.sample(range(1, 101), 5)\n",
        "\n",
        "random_numbers.sort()\n",
        "\n",
        "print(\"Sorted random numbers:\", random_numbers)\n"
      ],
      "metadata": {
        "colab": {
          "base_uri": "https://localhost:8080/"
        },
        "id": "ILL58orJFhsl",
        "outputId": "68dd2f37-8216-4b52-8190-84184e33edb4"
      },
      "execution_count": 40,
      "outputs": [
        {
          "output_type": "stream",
          "name": "stdout",
          "text": [
            "Sorted random numbers: [37, 65, 79, 95, 97]\n"
          ]
        }
      ]
    },
    {
      "cell_type": "code",
      "source": [
        "# 28. Write a code to create a list with strings and print the element at the third index.\n",
        "\n",
        "fruits = [\"apple\", \"banana\", \"cherry\", \"mango\", \"grape\"]\n",
        "\n",
        "print(fruits[3])\n"
      ],
      "metadata": {
        "colab": {
          "base_uri": "https://localhost:8080/"
        },
        "id": "MSV0QnVpG4W7",
        "outputId": "3b580aa2-389f-43e8-bd49-f2a0dcb568c6"
      },
      "execution_count": 41,
      "outputs": [
        {
          "output_type": "stream",
          "name": "stdout",
          "text": [
            "mango\n"
          ]
        }
      ]
    },
    {
      "cell_type": "code",
      "source": [
        "# 29. Write a code to combine two dictionaries into one and print the result.\n",
        "\n",
        "# Define two dictionaries\n",
        "dict1 = {'name': 'Alice', 'age': 25}\n",
        "dict2 = {'city': 'Paris', 'country': 'France'}\n",
        "\n",
        "# Combine the dictionaries\n",
        "combined_dict = {**dict1, **dict2}\n",
        "\n",
        "print(combined_dict)\n"
      ],
      "metadata": {
        "colab": {
          "base_uri": "https://localhost:8080/"
        },
        "id": "VHG0oM4SKMNY",
        "outputId": "cd924423-4349-4927-a129-5779997223b3"
      },
      "execution_count": 42,
      "outputs": [
        {
          "output_type": "stream",
          "name": "stdout",
          "text": [
            "{'name': 'Alice', 'age': 25, 'city': 'Paris', 'country': 'France'}\n"
          ]
        }
      ]
    },
    {
      "cell_type": "code",
      "source": [
        "# 30. Write a code to convert a list of strings into a set.\n",
        "\n",
        "string_list = [\"apple\", \"banana\", \"apple\", \"cherry\", \"banana\"]\n",
        "\n",
        "# Convert the list to a set\n",
        "string_set = set(string_list)\n",
        "\n",
        "print(string_set)\n"
      ],
      "metadata": {
        "colab": {
          "base_uri": "https://localhost:8080/"
        },
        "id": "IlGNAFlOL4Y5",
        "outputId": "a543aad7-039f-4f9d-d5ce-f518d85132d5"
      },
      "execution_count": 43,
      "outputs": [
        {
          "output_type": "stream",
          "name": "stdout",
          "text": [
            "{'cherry', 'apple', 'banana'}\n"
          ]
        }
      ]
    }
  ]
}